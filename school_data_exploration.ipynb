{
 "cells": [
  {
   "cell_type": "markdown",
   "metadata": {},
   "source": [
    "# Exploraroty Work On School Ratings"
   ]
  },
  {
   "cell_type": "code",
   "execution_count": 1,
   "metadata": {},
   "outputs": [],
   "source": [
    "#The following routine combines all data: school, flood, crime, HCAD into one dataframe\n",
    "# It also explores the impact of school rating in the different variables\n",
    "# The ouput is the dataframe to be used in the final routine"
   ]
  },
  {
   "cell_type": "code",
   "execution_count": 2,
   "metadata": {},
   "outputs": [],
   "source": [
    "import pandas as pd\n",
    "import matplotlib.pyplot as plt\n",
    "import scipy.stats as st\n",
    "import gmaps\n",
    "import numpy as np\n",
    "import seaborn as sns\n",
    "\n",
    "\n",
    "from config import gkey\n",
    "gmaps.configure(api_key=gkey)"
   ]
  },
  {
   "cell_type": "markdown",
   "metadata": {},
   "source": [
    "### Import Data Files And Merge"
   ]
  },
  {
   "cell_type": "code",
   "execution_count": 30,
   "metadata": {},
   "outputs": [
    {
     "name": "stdout",
     "output_type": "stream",
     "text": [
      "<class 'pandas.core.frame.DataFrame'>\n",
      "RangeIndex: 77779 entries, 0 to 77778\n",
      "Data columns (total 48 columns):\n",
      " #   Column                                      Non-Null Count  Dtype  \n",
      "---  ------                                      --------------  -----  \n",
      " 0   Unnamed: 0                                  77779 non-null  int64  \n",
      " 1   Unnamed: 0.1                                77779 non-null  int64  \n",
      " 2   Address                                     77779 non-null  object \n",
      " 3   Latitude                                    77779 non-null  float64\n",
      " 4   Longitude                                   77779 non-null  float64\n",
      " 5   Flood Description                           66782 non-null  object \n",
      " 6   Flood Zone                                  77779 non-null  object \n",
      " 7   Flood Risk                                  77779 non-null  float64\n",
      " 8   SITE_ADDR_1                                 77779 non-null  object \n",
      " 9   ACCOUNT                                     77779 non-null  float64\n",
      " 10  SITE_ADDR_3                                 77779 non-null  float64\n",
      " 11  NEIGHBORHOOD_CODE                           77779 non-null  float64\n",
      " 12  NEIGHBORHOOD_GROUP                          77779 non-null  float64\n",
      " 13  TOTAL_BUILDING_AREA                         77779 non-null  float64\n",
      " 14  TOTAL_LAND_AREA                             77779 non-null  float64\n",
      " 15  ACREAGE                                     77779 non-null  float64\n",
      " 16  LAND_VALUE_2019                             77779 non-null  float64\n",
      " 17  TOTAL_APPRAISED_VALUE_2019                  77779 non-null  float64\n",
      " 18  TOTAL_MARKET_VALUE_2019                     77779 non-null  float64\n",
      " 19  LAND_VALUE_2018                             77779 non-null  float64\n",
      " 20  TOTAL_APPRAISED_VALUE_2018                  77779 non-null  float64\n",
      " 21  TOTAL_MARKET_VALUE_2018                     77779 non-null  float64\n",
      " 22  pct_change_land_value_2018_2019             77779 non-null  float64\n",
      " 23  pct_change_total_appraised_value_2018_2019  77779 non-null  float64\n",
      " 24  pct_change_total_market_value_2018_2019     77779 non-null  float64\n",
      " 25  SQ_FT                                       77779 non-null  float64\n",
      " 26  NEIGHBORHOOD                                77779 non-null  object \n",
      " 27  Offense Count                               77779 non-null  int64  \n",
      " 28  crime_rank                                  77779 non-null  float64\n",
      " 29  Elementary Public School ID                 77779 non-null  int64  \n",
      " 30  Elementary Public School Name               77779 non-null  object \n",
      " 31  Elementary Public School Rating             77779 non-null  int64  \n",
      " 32  Elementary Charter School ID                77779 non-null  int64  \n",
      " 33  Elementary Charter School Name              77779 non-null  object \n",
      " 34  Elementary Charter School Rating            77779 non-null  int64  \n",
      " 35  Public Middle School ID                     77779 non-null  int64  \n",
      " 36  Public Middle School Name                   77779 non-null  object \n",
      " 37  Public Middle School Rating                 77779 non-null  int64  \n",
      " 38  Charter Middle School ID                    77779 non-null  int64  \n",
      " 39  Charter Middle School Name                  77779 non-null  object \n",
      " 40  Charter Middle School Rating                77779 non-null  int64  \n",
      " 41  Public High School ID                       77779 non-null  int64  \n",
      " 42  Public High School Name                     77779 non-null  object \n",
      " 43  Public High School Rating                   77779 non-null  int64  \n",
      " 44  Charter High School ID                      77779 non-null  int64  \n",
      " 45  Charter High School Name                    77779 non-null  object \n",
      " 46  Charter High School Rating                  77779 non-null  int64  \n",
      " 47  Average School Rating                       77779 non-null  float64\n",
      "dtypes: float64(22), int64(15), object(11)\n",
      "memory usage: 28.5+ MB\n"
     ]
    }
   ],
   "source": [
    "# read file with school, flood, and crime data and make it into a dataframe\n",
    "file1 = pd.read_csv(\"Resources/combined_flood_crime_and_school_data.csv\")\n",
    "data = pd.DataFrame(file1)\n",
    "data.info()"
   ]
  },
  {
   "cell_type": "code",
   "execution_count": 4,
   "metadata": {},
   "outputs": [
    {
     "data": {
      "text/plain": [
       "Index(['Address', 'Latitude', 'Longitude', 'Flood Description', 'Flood Zone',\n",
       "       'Flood Risk', 'SITE_ADDR_1', 'ACCOUNT', 'Zip Code', 'NEIGHBORHOOD_CODE',\n",
       "       'NEIGHBORHOOD_GROUP', 'TOTAL_BUILDING_AREA', 'TOTAL_LAND_AREA',\n",
       "       'ACREAGE', 'LAND_VALUE_2019', 'TOTAL_APPRAISED_VALUE_2019',\n",
       "       'TOTAL_MARKET_VALUE_2019', 'LAND_VALUE_2018',\n",
       "       'TOTAL_APPRAISED_VALUE_2018', 'TOTAL_MARKET_VALUE_2018',\n",
       "       'pct_change_land_value_2018_2019',\n",
       "       'pct_change_total_appraised_value_2018_2019',\n",
       "       'pct_change_total_market_value_2018_2019', 'SQ_FT', 'NEIGHBORHOOD',\n",
       "       'Offense Count', 'crime_rank', 'Elementary Public School ID',\n",
       "       'Elementary Public School Name', 'Elementary Public School Rating',\n",
       "       'Elementary Charter School ID', 'Elementary Charter School Name',\n",
       "       'Elementary Charter School Rating', 'Public Middle School ID',\n",
       "       'Public Middle School Name', 'Public Middle School Rating',\n",
       "       'Charter Middle School ID', 'Charter Middle School Name',\n",
       "       'Charter Middle School Rating', 'Public High School ID',\n",
       "       'Public High School Name', 'Public High School Rating',\n",
       "       'Charter High School ID', 'Charter High School Name',\n",
       "       'Charter High School Rating', 'Average School Rating'],\n",
       "      dtype='object')"
      ]
     },
     "execution_count": 4,
     "metadata": {},
     "output_type": "execute_result"
    }
   ],
   "source": [
    "#cleaning unwanted columnns from DataFrame\n",
    "del data['Unnamed: 0']\n",
    "del data['Unnamed: 0.1']\n",
    "\n",
    "data.rename(columns={'SITE_ADDR_3':\"Zip Code\"}, inplace = True)\n",
    "data.columns"
   ]
  },
  {
   "cell_type": "markdown",
   "metadata": {},
   "source": [
    "### Compare School Ratings Vs. Total Appraised Value"
   ]
  },
  {
   "cell_type": "code",
   "execution_count": 5,
   "metadata": {},
   "outputs": [
    {
     "data": {
      "image/png": "[encoded data removed]",
      "text/plain": [
       "<Figure size 720x504 with 2 Axes>"
      ]
     },
     "metadata": {
      "needs_background": "light"
     },
     "output_type": "display_data"
    }
   ],
   "source": [
    "# plot average school ratings vs property values\n",
    "fig1,ax = plt.subplots(figsize=(10,7))\n",
    "chart1 = ax.scatter(\n",
    "    data['Average School Rating'],data[\"TOTAL_APPRAISED_VALUE_2019\"],c=data[\"TOTAL_APPRAISED_VALUE_2019\"],\n",
    "    cmap=plt.cm.jet)\n",
    "fig1.colorbar(chart1, ax=ax)\n",
    "plt.plot(data['Average School Rating'])\n",
    "plt.xlabel('Average School Rating', fontsize=12)\n",
    "plt.ylabel(\"Total Appraised Value\", fontsize=12)\n",
    "plt.title(\"Total Appraised Value vs Average School Ratings\", fontsize=15)\n",
    "plt.suptitle(\"Year: 2019\",x=0.43,fontsize=12)\n",
    "plt.xlim(70,100)\n",
    "plt.ylim(data[\"TOTAL_APPRAISED_VALUE_2019\"].min(),data[\"TOTAL_APPRAISED_VALUE_2019\"].max())\n",
    "plt.show()"
   ]
  },
  {
   "cell_type": "markdown",
   "metadata": {},
   "source": [
    "### Evaluate Trends In All Schools In Harris County, TX"
   ]
  },
  {
   "cell_type": "code",
   "execution_count": 6,
   "metadata": {},
   "outputs": [
    {
     "data": {
      "text/html": [
       "<div>\n",
       "<style scoped>\n",
       "    .dataframe tbody tr th:only-of-type {\n",
       "        vertical-align: middle;\n",
       "    }\n",
       "\n",
       "    .dataframe tbody tr th {\n",
       "        vertical-align: top;\n",
       "    }\n",
       "\n",
       "    .dataframe thead th {\n",
       "        text-align: right;\n",
       "    }\n",
       "</style>\n",
       "<table border=\"1\" class=\"dataframe\">\n",
       "  <thead>\n",
       "    <tr style=\"text-align: right;\">\n",
       "      <th></th>\n",
       "      <th>Unnamed: 0</th>\n",
       "      <th>School.ID</th>\n",
       "      <th>School.Name</th>\n",
       "      <th>Street.Address</th>\n",
       "      <th>CITY</th>\n",
       "      <th>ZIP</th>\n",
       "      <th>County</th>\n",
       "      <th>District.Name</th>\n",
       "      <th>School.Type</th>\n",
       "      <th>Charter.Trad</th>\n",
       "      <th>...</th>\n",
       "      <th>Math.Current-2</th>\n",
       "      <th>Math.Change</th>\n",
       "      <th>Student.Growth.Reading</th>\n",
       "      <th>Student.Growth.Math</th>\n",
       "      <th>School.Program</th>\n",
       "      <th>Community.Resources</th>\n",
       "      <th>longitude</th>\n",
       "      <th>latitude</th>\n",
       "      <th>Student.Teacher.Ratio</th>\n",
       "      <th>Grade.Range</th>\n",
       "    </tr>\n",
       "  </thead>\n",
       "  <tbody>\n",
       "    <tr>\n",
       "      <th>0</th>\n",
       "      <td>23</td>\n",
       "      <td>101871041</td>\n",
       "      <td>A+ UNLIMITED POTENTIAL MIDDLE</td>\n",
       "      <td>5100 MONTROSE</td>\n",
       "      <td>HOUSTON</td>\n",
       "      <td>77006.0</td>\n",
       "      <td>HARRIS</td>\n",
       "      <td>A+ UNLIMITED POTENTIAL</td>\n",
       "      <td>Middle</td>\n",
       "      <td>Charter</td>\n",
       "      <td>...</td>\n",
       "      <td>NaN</td>\n",
       "      <td>NaN</td>\n",
       "      <td>MEDIUM</td>\n",
       "      <td>LOW</td>\n",
       "      <td>NaN</td>\n",
       "      <td>NaN</td>\n",
       "      <td>-95.391398</td>\n",
       "      <td>29.727426</td>\n",
       "      <td>22.0</td>\n",
       "      <td>06—08</td>\n",
       "    </tr>\n",
       "    <tr>\n",
       "      <th>1</th>\n",
       "      <td>43</td>\n",
       "      <td>101810002</td>\n",
       "      <td>ACADEMY OF ACCELERATED LEARNING ELEMENTARY</td>\n",
       "      <td>6711 BELLFORT ST</td>\n",
       "      <td>HOUSTON</td>\n",
       "      <td>77087.0</td>\n",
       "      <td>HARRIS</td>\n",
       "      <td>ACADEMY OF ACCELERATED LEARNING INC</td>\n",
       "      <td>Elementary</td>\n",
       "      <td>Charter</td>\n",
       "      <td>...</td>\n",
       "      <td>31.720430</td>\n",
       "      <td>VARIED</td>\n",
       "      <td>HIGH</td>\n",
       "      <td>HIGH</td>\n",
       "      <td>(Unavailable)</td>\n",
       "      <td>9999</td>\n",
       "      <td>-95.311151</td>\n",
       "      <td>29.668447</td>\n",
       "      <td>17.0</td>\n",
       "      <td>PK—05</td>\n",
       "    </tr>\n",
       "    <tr>\n",
       "      <th>2</th>\n",
       "      <td>48</td>\n",
       "      <td>101849101</td>\n",
       "      <td>ACCELERATED INTERDISCIPLINARY ACADEMY ELEMENTARY</td>\n",
       "      <td>12825 SUMMIT RIDGE DR</td>\n",
       "      <td>HOUSTON</td>\n",
       "      <td>77085.0</td>\n",
       "      <td>HARRIS</td>\n",
       "      <td>ACCELERATED INTERMEDIATE ACADEMY</td>\n",
       "      <td>Elementary</td>\n",
       "      <td>Charter</td>\n",
       "      <td>...</td>\n",
       "      <td>52.631579</td>\n",
       "      <td>INCREASED</td>\n",
       "      <td>HIGH</td>\n",
       "      <td>HIGH</td>\n",
       "      <td>(Unavailable)</td>\n",
       "      <td>9999</td>\n",
       "      <td>-95.484785</td>\n",
       "      <td>29.636619</td>\n",
       "      <td>14.0</td>\n",
       "      <td>PK—06</td>\n",
       "    </tr>\n",
       "    <tr>\n",
       "      <th>3</th>\n",
       "      <td>56</td>\n",
       "      <td>101907107</td>\n",
       "      <td>ADAM ELEMENTARY</td>\n",
       "      <td>11303 HONEYGROVE LN</td>\n",
       "      <td>HOUSTON</td>\n",
       "      <td>77065.0</td>\n",
       "      <td>HARRIS</td>\n",
       "      <td>CYPRESS-FAIRBANKS ISD</td>\n",
       "      <td>Elementary</td>\n",
       "      <td>Traditional Public School</td>\n",
       "      <td>...</td>\n",
       "      <td>49.612403</td>\n",
       "      <td>VARIED</td>\n",
       "      <td>MEDIUM</td>\n",
       "      <td>MEDIUM</td>\n",
       "      <td>NaN</td>\n",
       "      <td>NaN</td>\n",
       "      <td>-95.603242</td>\n",
       "      <td>29.926556</td>\n",
       "      <td>16.0</td>\n",
       "      <td>PK—05</td>\n",
       "    </tr>\n",
       "    <tr>\n",
       "      <th>4</th>\n",
       "      <td>81</td>\n",
       "      <td>101905043</td>\n",
       "      <td>AGUIRRE JUNIOR HIGH</td>\n",
       "      <td>15726 WALLISVILLE RD</td>\n",
       "      <td>HOUSTON</td>\n",
       "      <td>77049.0</td>\n",
       "      <td>HARRIS</td>\n",
       "      <td>CHANNELVIEW ISD</td>\n",
       "      <td>Middle</td>\n",
       "      <td>Traditional Public School</td>\n",
       "      <td>...</td>\n",
       "      <td>32.142857</td>\n",
       "      <td>INCREASED</td>\n",
       "      <td>HIGH</td>\n",
       "      <td>MEDIUM</td>\n",
       "      <td>NaN</td>\n",
       "      <td>NaN</td>\n",
       "      <td>-95.156563</td>\n",
       "      <td>29.809586</td>\n",
       "      <td>18.0</td>\n",
       "      <td>06—08</td>\n",
       "    </tr>\n",
       "  </tbody>\n",
       "</table>\n",
       "<p>5 rows × 52 columns</p>\n",
       "</div>"
      ],
      "text/plain": [
       "   Unnamed: 0  School.ID                                       School.Name  \\\n",
       "0          23  101871041                     A+ UNLIMITED POTENTIAL MIDDLE   \n",
       "1          43  101810002        ACADEMY OF ACCELERATED LEARNING ELEMENTARY   \n",
       "2          48  101849101  ACCELERATED INTERDISCIPLINARY ACADEMY ELEMENTARY   \n",
       "3          56  101907107                                   ADAM ELEMENTARY   \n",
       "4          81  101905043                              AGUIRRE JUNIOR HIGH    \n",
       "\n",
       "          Street.Address     CITY      ZIP  County  \\\n",
       "0          5100 MONTROSE  HOUSTON  77006.0  HARRIS   \n",
       "1       6711 BELLFORT ST  HOUSTON  77087.0  HARRIS   \n",
       "2  12825 SUMMIT RIDGE DR  HOUSTON  77085.0  HARRIS   \n",
       "3    11303 HONEYGROVE LN  HOUSTON  77065.0  HARRIS   \n",
       "4   15726 WALLISVILLE RD  HOUSTON  77049.0  HARRIS   \n",
       "\n",
       "                         District.Name School.Type               Charter.Trad  \\\n",
       "0               A+ UNLIMITED POTENTIAL      Middle                    Charter   \n",
       "1  ACADEMY OF ACCELERATED LEARNING INC  Elementary                    Charter   \n",
       "2     ACCELERATED INTERMEDIATE ACADEMY  Elementary                    Charter   \n",
       "3                CYPRESS-FAIRBANKS ISD  Elementary  Traditional Public School   \n",
       "4                      CHANNELVIEW ISD      Middle  Traditional Public School   \n",
       "\n",
       "   ... Math.Current-2 Math.Change  Student.Growth.Reading Student.Growth.Math  \\\n",
       "0  ...            NaN         NaN                  MEDIUM                 LOW   \n",
       "1  ...      31.720430      VARIED                    HIGH                HIGH   \n",
       "2  ...      52.631579   INCREASED                    HIGH                HIGH   \n",
       "3  ...      49.612403      VARIED                  MEDIUM              MEDIUM   \n",
       "4  ...      32.142857   INCREASED                    HIGH              MEDIUM   \n",
       "\n",
       "  School.Program  Community.Resources  longitude   latitude  \\\n",
       "0            NaN                  NaN -95.391398  29.727426   \n",
       "1  (Unavailable)                 9999 -95.311151  29.668447   \n",
       "2  (Unavailable)                 9999 -95.484785  29.636619   \n",
       "3            NaN                  NaN -95.603242  29.926556   \n",
       "4            NaN                  NaN -95.156563  29.809586   \n",
       "\n",
       "   Student.Teacher.Ratio  Grade.Range  \n",
       "0                   22.0        06—08  \n",
       "1                   17.0        PK—05  \n",
       "2                   14.0        PK—06  \n",
       "3                   16.0        PK—05  \n",
       "4                   18.0        06—08  \n",
       "\n",
       "[5 rows x 52 columns]"
      ]
     },
     "execution_count": 6,
     "metadata": {},
     "output_type": "execute_result"
    }
   ],
   "source": [
    "# import data for school in all of Harris County\n",
    "file3 = pd.read_csv(\"Resources/Schools_Ratings_Harris_Co.csv\")\n",
    "df3 = pd.DataFrame(file3)\n",
    "df3.head()"
   ]
  },
  {
   "cell_type": "code",
   "execution_count": 7,
   "metadata": {},
   "outputs": [],
   "source": [
    "# Convert ratings to numbers\n",
    "df3[\"School Rating\"] = \"\"\n",
    "df3.loc[df3[\"TEA Grade\"]==\"A\", \"School Rating\"]=95\n",
    "df3.loc[df3[\"TEA Grade\"]==\"B\", \"School Rating\"]=85\n",
    "df3.loc[df3[\"TEA Grade\"]==\"C\", \"School Rating\"]=75\n",
    "df3.loc[df3[\"TEA Grade\"]==\"D\", \"School Rating\"]=65\n",
    "df3.loc[df3[\"TEA Grade\"]==\"F\", \"School Rating\"]=55"
   ]
  },
  {
   "cell_type": "code",
   "execution_count": 8,
   "metadata": {},
   "outputs": [
    {
     "data": {
      "application/vnd.jupyter.widget-view+json": {
       "model_id": "44f6da4c39d647d3a6816d9b096f6cc1",
       "version_major": 2,
       "version_minor": 0
      },
      "text/plain": [
       "Figure(layout=FigureLayout(border='1px solic black', height='500px', margin='0 auto 0 auto', padding='1px', wi…"
      ]
     },
     "metadata": {},
     "output_type": "display_data"
    }
   ],
   "source": [
    "# create a heat map of school rantings for all of Harris County\n",
    "locations_2 = df3[[\"latitude\",\"longitude\"]]\n",
    "county_ratings = df3[\"School Rating\"]\n",
    "\n",
    "figure_layout = {\"width\":\"900px\",\n",
    "                 \"height\":\"500px\",\n",
    "                 \"border\":\"1px solic black\",\n",
    "                 \"padding\":\"1px\",\"margin\":\"0 auto 0 auto\"}\n",
    "fig2 = gmaps.figure(layout=figure_layout)\n",
    "county_layer = gmaps.heatmap_layer(locations_2,weights=county_ratings,dissipating=False)\n",
    "fig2.add_layer(county_layer)\n",
    "fig2"
   ]
  },
  {
   "cell_type": "code",
   "execution_count": 9,
   "metadata": {},
   "outputs": [],
   "source": [
    "county_layer.max_intensity = 94\n",
    "county_layer.min_intensity = 55\n",
    "county_layer.point_radius = 0.005"
   ]
  },
  {
   "cell_type": "markdown",
   "metadata": {},
   "source": [
    "### Evaluate Trends In All Schools Within Inner Loop Subset"
   ]
  },
  {
   "cell_type": "code",
   "execution_count": 10,
   "metadata": {},
   "outputs": [
    {
     "data": {
      "application/vnd.jupyter.widget-view+json": {
       "model_id": "ef004a526c694721b90a373b34f940b5",
       "version_major": 2,
       "version_minor": 0
      },
      "text/plain": [
       "Figure(layout=FigureLayout(border='1px solic black', height='500px', margin='0 auto 0 auto', padding='1px', wi…"
      ]
     },
     "metadata": {},
     "output_type": "display_data"
    }
   ],
   "source": [
    "# create a heat map of school rantings \n",
    "locations = data[[\"Latitude\",\"Longitude\"]]\n",
    "school_ratings = data['Average School Rating']\n",
    "\n",
    "figure_layout = {\"width\":\"900px\",\n",
    "                 \"height\":\"500px\",\n",
    "                 \"border\":\"1px solic black\",\n",
    "                 \"padding\":\"1px\",\"margin\":\"0 auto 0 auto\"}\n",
    "fig3 = gmaps.figure(layout=figure_layout)\n",
    "school_layer = gmaps.heatmap_layer(locations,weights=school_ratings,dissipating=False)\n",
    "fig3.add_layer(school_layer)\n",
    "fig3"
   ]
  },
  {
   "cell_type": "code",
   "execution_count": 11,
   "metadata": {},
   "outputs": [],
   "source": [
    "school_layer.max_intensity = max(data['Average School Rating'])\n",
    "school_layer.point_radius = 0.0003"
   ]
  },
  {
   "cell_type": "markdown",
   "metadata": {},
   "source": [
    "### All Schools By Zip Codes"
   ]
  },
  {
   "cell_type": "code",
   "execution_count": 12,
   "metadata": {},
   "outputs": [
    {
     "data": {
      "text/html": [
       "<div>\n",
       "<style scoped>\n",
       "    .dataframe tbody tr th:only-of-type {\n",
       "        vertical-align: middle;\n",
       "    }\n",
       "\n",
       "    .dataframe tbody tr th {\n",
       "        vertical-align: top;\n",
       "    }\n",
       "\n",
       "    .dataframe thead th {\n",
       "        text-align: right;\n",
       "    }\n",
       "</style>\n",
       "<table border=\"1\" class=\"dataframe\">\n",
       "  <thead>\n",
       "    <tr style=\"text-align: right;\">\n",
       "      <th></th>\n",
       "      <th>Average School Rating</th>\n",
       "      <th>TOTAL_APPRAISED_VALUE_2019</th>\n",
       "    </tr>\n",
       "    <tr>\n",
       "      <th>Zip Code</th>\n",
       "      <th></th>\n",
       "      <th></th>\n",
       "    </tr>\n",
       "  </thead>\n",
       "  <tbody>\n",
       "    <tr>\n",
       "      <th>77002.0</th>\n",
       "      <td>80.017544</td>\n",
       "      <td>4.166902e+05</td>\n",
       "    </tr>\n",
       "    <tr>\n",
       "      <th>77005.0</th>\n",
       "      <td>88.306446</td>\n",
       "      <td>1.194797e+06</td>\n",
       "    </tr>\n",
       "    <tr>\n",
       "      <th>77006.0</th>\n",
       "      <td>81.707078</td>\n",
       "      <td>5.893119e+05</td>\n",
       "    </tr>\n",
       "    <tr>\n",
       "      <th>77019.0</th>\n",
       "      <td>84.519784</td>\n",
       "      <td>1.517150e+06</td>\n",
       "    </tr>\n",
       "    <tr>\n",
       "      <th>77025.0</th>\n",
       "      <td>86.545209</td>\n",
       "      <td>5.133149e+05</td>\n",
       "    </tr>\n",
       "    <tr>\n",
       "      <th>77027.0</th>\n",
       "      <td>91.769249</td>\n",
       "      <td>1.086646e+06</td>\n",
       "    </tr>\n",
       "    <tr>\n",
       "      <th>77030.0</th>\n",
       "      <td>86.417199</td>\n",
       "      <td>7.968352e+05</td>\n",
       "    </tr>\n",
       "    <tr>\n",
       "      <th>77054.0</th>\n",
       "      <td>80.133224</td>\n",
       "      <td>2.112291e+05</td>\n",
       "    </tr>\n",
       "    <tr>\n",
       "      <th>77098.0</th>\n",
       "      <td>84.185297</td>\n",
       "      <td>5.678823e+05</td>\n",
       "    </tr>\n",
       "  </tbody>\n",
       "</table>\n",
       "</div>"
      ],
      "text/plain": [
       "          Average School Rating  TOTAL_APPRAISED_VALUE_2019\n",
       "Zip Code                                                   \n",
       "77002.0               80.017544                4.166902e+05\n",
       "77005.0               88.306446                1.194797e+06\n",
       "77006.0               81.707078                5.893119e+05\n",
       "77019.0               84.519784                1.517150e+06\n",
       "77025.0               86.545209                5.133149e+05\n",
       "77027.0               91.769249                1.086646e+06\n",
       "77030.0               86.417199                7.968352e+05\n",
       "77054.0               80.133224                2.112291e+05\n",
       "77098.0               84.185297                5.678823e+05"
      ]
     },
     "execution_count": 12,
     "metadata": {},
     "output_type": "execute_result"
    }
   ],
   "source": [
    "# group all schools by zip code\n",
    "zip_code = data[['Zip Code',\"Average School Rating\",'TOTAL_APPRAISED_VALUE_2019']]\n",
    "zip_code_group = zip_code.groupby([\"Zip Code\"]).mean()\n",
    "zip_code_group"
   ]
  },
  {
   "cell_type": "code",
   "execution_count": 13,
   "metadata": {},
   "outputs": [
    {
     "data": {
      "image/png": "[encoded data removed]",
      "text/plain": [
       "<Figure size 720x504 with 1 Axes>"
      ]
     },
     "metadata": {
      "needs_background": "light"
     },
     "output_type": "display_data"
    }
   ],
   "source": [
    "# plot average school ratings vs property values and add a linear regression\n",
    "correlation = st.pearsonr(zip_code_group[\"Average School Rating\"],zip_code_group[\"TOTAL_APPRAISED_VALUE_2019\"])\n",
    "(slope, intercept, rvalue, pvalue, stderr) = st.linregress(zip_code_group[\"Average School Rating\"],\n",
    "                                                           zip_code_group[\"TOTAL_APPRAISED_VALUE_2019\"])\n",
    "regress_values = zip_code_group[\"Average School Rating\"] * slope + intercept\n",
    "line_eq = f'y = {str(round(slope,2))}x + {str(round(intercept,2))}'\n",
    "fig4,ax = plt.subplots(figsize=(10,7))\n",
    "chart4 = ax.scatter(zip_code_group['Average School Rating'],zip_code_group[\"TOTAL_APPRAISED_VALUE_2019\"])\n",
    "plt.plot(zip_code_group['Average School Rating'], regress_values, \"r-\")\n",
    "plt.annotate(line_eq, (75,1e6),fontsize=10,color='red')\n",
    "plt.annotate(f'r^2={round(correlation[0]**2,2)}',(75,.95e6),fontsize=10,color='red')\n",
    "plt.xlabel('Average School Rating', fontsize=12)\n",
    "plt.ylabel(\"Total Appraised Value\", fontsize=12)\n",
    "plt.title(\"Total Appraised Value vs Average School Ratings per Zip Code\", fontsize=15)\n",
    "plt.suptitle(\"Year: 2019\",x=0.43,fontsize=12)\n",
    "plt.xlim(70,100)\n",
    "plt.ylim(zip_code_group[\"TOTAL_APPRAISED_VALUE_2019\"].min(),1.4e6)\n",
    "plt.show()"
   ]
  },
  {
   "cell_type": "markdown",
   "metadata": {},
   "source": [
    "### Public Schools Inner Loop Subset"
   ]
  },
  {
   "cell_type": "code",
   "execution_count": 14,
   "metadata": {},
   "outputs": [
    {
     "name": "stderr",
     "output_type": "stream",
     "text": [
      "<ipython-input-14-1502d1f94619>:4: SettingWithCopyWarning: \n",
      "A value is trying to be set on a copy of a slice from a DataFrame.\n",
      "Try using .loc[row_indexer,col_indexer] = value instead\n",
      "\n",
      "See the caveats in the documentation: https://pandas.pydata.org/pandas-docs/stable/user_guide/indexing.html#returning-a-view-versus-a-copy\n",
      "  public_schools[\"Average School Rating\"]=public_schools[[\"Elementary Public School Rating\",\"Public Middle School Rating\",\n"
     ]
    }
   ],
   "source": [
    "# slice the data for public schools\n",
    "public_schools = data[[\"Elementary Public School Rating\",\"Public Middle School Rating\",\"Public High School Rating\",\n",
    "                       'TOTAL_APPRAISED_VALUE_2019','Zip Code',\"NEIGHBORHOOD_GROUP\"]]\n",
    "public_schools[\"Average School Rating\"]=public_schools[[\"Elementary Public School Rating\",\"Public Middle School Rating\",\n",
    "                                                  \"Public High School Rating\"]].mean(axis=1)"
   ]
  },
  {
   "cell_type": "code",
   "execution_count": 15,
   "metadata": {},
   "outputs": [
    {
     "data": {
      "image/png": "[encoded data removed]",
      "text/plain": [
       "<Figure size 720x504 with 1 Axes>"
      ]
     },
     "metadata": {
      "needs_background": "light"
     },
     "output_type": "display_data"
    }
   ],
   "source": [
    "# plot average public school ratings vs property values\n",
    "fig5,ax = plt.subplots(figsize=(10,7))\n",
    "chart5 = ax.scatter(public_schools['Average School Rating'],public_schools[\"TOTAL_APPRAISED_VALUE_2019\"])\n",
    "plt.plot(public_schools['Average School Rating'])\n",
    "plt.xlabel('Average Public School Rating', fontsize=12)\n",
    "plt.ylabel(\"Total Appraised Value\", fontsize=12)\n",
    "plt.title(\"Total Appraised Value vs Average Public School Ratings\", fontsize=15)\n",
    "plt.suptitle(\"Year: 2019\",x=0.43,fontsize=12)\n",
    "plt.xlim(70,100)\n",
    "plt.ylim(public_schools[\"TOTAL_APPRAISED_VALUE_2019\"].min(),public_schools[\"TOTAL_APPRAISED_VALUE_2019\"].max())\n",
    "plt.show()"
   ]
  },
  {
   "cell_type": "markdown",
   "metadata": {},
   "source": [
    "### Charter Schools Inner Loop Subset"
   ]
  },
  {
   "cell_type": "code",
   "execution_count": 16,
   "metadata": {},
   "outputs": [
    {
     "name": "stderr",
     "output_type": "stream",
     "text": [
      "<ipython-input-16-5ef457ec7dcb>:4: SettingWithCopyWarning: \n",
      "A value is trying to be set on a copy of a slice from a DataFrame.\n",
      "Try using .loc[row_indexer,col_indexer] = value instead\n",
      "\n",
      "See the caveats in the documentation: https://pandas.pydata.org/pandas-docs/stable/user_guide/indexing.html#returning-a-view-versus-a-copy\n",
      "  charter_schools[\"Average School Rating\"]=charter_schools[[\"Elementary Charter School Rating\",\"Charter Middle School Rating\",\n"
     ]
    }
   ],
   "source": [
    "# slice the data for charter_schools\n",
    "charter_schools = data[[\"Elementary Charter School Rating\",\"Charter Middle School Rating\",\"Charter High School Rating\",\n",
    "                       'TOTAL_APPRAISED_VALUE_2019','Zip Code',\"NEIGHBORHOOD_GROUP\"]]\n",
    "charter_schools[\"Average School Rating\"]=charter_schools[[\"Elementary Charter School Rating\",\"Charter Middle School Rating\",\n",
    "                                                  \"Charter High School Rating\"]].mean(axis=1)"
   ]
  },
  {
   "cell_type": "code",
   "execution_count": 17,
   "metadata": {},
   "outputs": [
    {
     "data": {
      "image/png": "[encoded data removed]",
      "text/plain": [
       "<Figure size 720x504 with 1 Axes>"
      ]
     },
     "metadata": {
      "needs_background": "light"
     },
     "output_type": "display_data"
    }
   ],
   "source": [
    "# plot average charter school ratings vs property values\n",
    "fig6,ax = plt.subplots(figsize=(10,7))\n",
    "chart6 = ax.scatter(charter_schools['Average School Rating'],public_schools[\"TOTAL_APPRAISED_VALUE_2019\"])\n",
    "plt.plot(charter_schools['Average School Rating'])\n",
    "plt.xlabel('Average Charter School Rating', fontsize=12)\n",
    "plt.ylabel(\"Total Appraised Value\", fontsize=12)\n",
    "plt.title(\"Total Appraised Value vs Average Charter School Ratings\", fontsize=15)\n",
    "plt.suptitle(\"Year: 2019\",x=0.43,fontsize=12)\n",
    "plt.xlim(70,100)\n",
    "plt.ylim(charter_schools[\"TOTAL_APPRAISED_VALUE_2019\"].min(),charter_schools[\"TOTAL_APPRAISED_VALUE_2019\"].max())\n",
    "plt.show()"
   ]
  },
  {
   "cell_type": "markdown",
   "metadata": {},
   "source": [
    "### Public Schools By Zip Codes"
   ]
  },
  {
   "cell_type": "code",
   "execution_count": 18,
   "metadata": {},
   "outputs": [
    {
     "data": {
      "text/html": [
       "<div>\n",
       "<style scoped>\n",
       "    .dataframe tbody tr th:only-of-type {\n",
       "        vertical-align: middle;\n",
       "    }\n",
       "\n",
       "    .dataframe tbody tr th {\n",
       "        vertical-align: top;\n",
       "    }\n",
       "\n",
       "    .dataframe thead th {\n",
       "        text-align: right;\n",
       "    }\n",
       "</style>\n",
       "<table border=\"1\" class=\"dataframe\">\n",
       "  <thead>\n",
       "    <tr style=\"text-align: right;\">\n",
       "      <th></th>\n",
       "      <th>Average School Rating</th>\n",
       "      <th>TOTAL_APPRAISED_VALUE_2019</th>\n",
       "    </tr>\n",
       "    <tr>\n",
       "      <th>Zip Code</th>\n",
       "      <th></th>\n",
       "      <th></th>\n",
       "    </tr>\n",
       "  </thead>\n",
       "  <tbody>\n",
       "    <tr>\n",
       "      <th>77002.0</th>\n",
       "      <td>83.771930</td>\n",
       "      <td>4.166902e+05</td>\n",
       "    </tr>\n",
       "    <tr>\n",
       "      <th>77005.0</th>\n",
       "      <td>89.000864</td>\n",
       "      <td>1.194797e+06</td>\n",
       "    </tr>\n",
       "    <tr>\n",
       "      <th>77006.0</th>\n",
       "      <td>82.853817</td>\n",
       "      <td>5.893119e+05</td>\n",
       "    </tr>\n",
       "    <tr>\n",
       "      <th>77019.0</th>\n",
       "      <td>82.452638</td>\n",
       "      <td>1.517150e+06</td>\n",
       "    </tr>\n",
       "    <tr>\n",
       "      <th>77025.0</th>\n",
       "      <td>85.982645</td>\n",
       "      <td>5.133149e+05</td>\n",
       "    </tr>\n",
       "    <tr>\n",
       "      <th>77027.0</th>\n",
       "      <td>88.538499</td>\n",
       "      <td>1.086646e+06</td>\n",
       "    </tr>\n",
       "    <tr>\n",
       "      <th>77030.0</th>\n",
       "      <td>91.167731</td>\n",
       "      <td>7.968352e+05</td>\n",
       "    </tr>\n",
       "    <tr>\n",
       "      <th>77054.0</th>\n",
       "      <td>78.598213</td>\n",
       "      <td>2.112291e+05</td>\n",
       "    </tr>\n",
       "    <tr>\n",
       "      <th>77098.0</th>\n",
       "      <td>83.595241</td>\n",
       "      <td>5.678823e+05</td>\n",
       "    </tr>\n",
       "  </tbody>\n",
       "</table>\n",
       "</div>"
      ],
      "text/plain": [
       "          Average School Rating  TOTAL_APPRAISED_VALUE_2019\n",
       "Zip Code                                                   \n",
       "77002.0               83.771930                4.166902e+05\n",
       "77005.0               89.000864                1.194797e+06\n",
       "77006.0               82.853817                5.893119e+05\n",
       "77019.0               82.452638                1.517150e+06\n",
       "77025.0               85.982645                5.133149e+05\n",
       "77027.0               88.538499                1.086646e+06\n",
       "77030.0               91.167731                7.968352e+05\n",
       "77054.0               78.598213                2.112291e+05\n",
       "77098.0               83.595241                5.678823e+05"
      ]
     },
     "execution_count": 18,
     "metadata": {},
     "output_type": "execute_result"
    }
   ],
   "source": [
    "# group public schools by zip code\n",
    "public_zip_code = public_schools[['Zip Code',\"Average School Rating\",'TOTAL_APPRAISED_VALUE_2019']]\n",
    "public_schools_group = public_zip_code.groupby([\"Zip Code\"]).mean()\n",
    "public_schools_group"
   ]
  },
  {
   "cell_type": "code",
   "execution_count": 19,
   "metadata": {},
   "outputs": [
    {
     "data": {
      "image/png": "[encoded data removed]",
      "text/plain": [
       "<Figure size 720x504 with 1 Axes>"
      ]
     },
     "metadata": {
      "needs_background": "light"
     },
     "output_type": "display_data"
    }
   ],
   "source": [
    "# plot average public school ratings vs property values per zip code and add a linear regression\n",
    "correlation = st.pearsonr(public_schools_group[\"Average School Rating\"],public_schools_group[\"TOTAL_APPRAISED_VALUE_2019\"])\n",
    "(slope, intercept, rvalue, pvalue, stderr) = st.linregress(public_schools_group[\"Average School Rating\"],\n",
    "                                                           public_schools_group[\"TOTAL_APPRAISED_VALUE_2019\"])\n",
    "regress_values = public_schools_group[\"Average School Rating\"] * slope + intercept\n",
    "line_eq = f'y = {str(round(slope,2))}x + {str(round(intercept,2))}'\n",
    "fig7,ax = plt.subplots(figsize=(10,7))\n",
    "chart7 = ax.scatter(public_schools_group['Average School Rating'],public_schools_group[\"TOTAL_APPRAISED_VALUE_2019\"])\n",
    "plt.plot(public_schools_group['Average School Rating'], regress_values, \"r-\")\n",
    "plt.annotate(line_eq, (75,0.8e6),fontsize=10,color='red')\n",
    "plt.annotate(f'r^2={round(correlation[0]**2,2)}',(75,.75e6),fontsize=10,color='red')\n",
    "plt.xlabel('Average Public School Rating', fontsize=12)\n",
    "plt.ylabel(\"Total Appraised Value\", fontsize=12)\n",
    "plt.title(\"Total Appraised Value vs Average Public School Ratings per Zip Code\", fontsize=15)\n",
    "plt.suptitle(\"Year: 2019\",x=0.43,fontsize=12)\n",
    "plt.xlim(70,100)\n",
    "plt.ylim(public_schools_group[\"TOTAL_APPRAISED_VALUE_2019\"].min(),1.4e6)\n",
    "plt.show()"
   ]
  },
  {
   "cell_type": "markdown",
   "metadata": {},
   "source": [
    "### Charter Schools By Zip Codes"
   ]
  },
  {
   "cell_type": "code",
   "execution_count": 20,
   "metadata": {},
   "outputs": [
    {
     "data": {
      "text/html": [
       "<div>\n",
       "<style scoped>\n",
       "    .dataframe tbody tr th:only-of-type {\n",
       "        vertical-align: middle;\n",
       "    }\n",
       "\n",
       "    .dataframe tbody tr th {\n",
       "        vertical-align: top;\n",
       "    }\n",
       "\n",
       "    .dataframe thead th {\n",
       "        text-align: right;\n",
       "    }\n",
       "</style>\n",
       "<table border=\"1\" class=\"dataframe\">\n",
       "  <thead>\n",
       "    <tr style=\"text-align: right;\">\n",
       "      <th></th>\n",
       "      <th>Average School Rating</th>\n",
       "      <th>TOTAL_APPRAISED_VALUE_2019</th>\n",
       "    </tr>\n",
       "    <tr>\n",
       "      <th>Zip Code</th>\n",
       "      <th></th>\n",
       "      <th></th>\n",
       "    </tr>\n",
       "  </thead>\n",
       "  <tbody>\n",
       "    <tr>\n",
       "      <th>77002.0</th>\n",
       "      <td>76.263158</td>\n",
       "      <td>4.166902e+05</td>\n",
       "    </tr>\n",
       "    <tr>\n",
       "      <th>77005.0</th>\n",
       "      <td>87.612029</td>\n",
       "      <td>1.194797e+06</td>\n",
       "    </tr>\n",
       "    <tr>\n",
       "      <th>77006.0</th>\n",
       "      <td>80.560339</td>\n",
       "      <td>5.893119e+05</td>\n",
       "    </tr>\n",
       "    <tr>\n",
       "      <th>77019.0</th>\n",
       "      <td>86.586930</td>\n",
       "      <td>1.517150e+06</td>\n",
       "    </tr>\n",
       "    <tr>\n",
       "      <th>77025.0</th>\n",
       "      <td>87.107772</td>\n",
       "      <td>5.133149e+05</td>\n",
       "    </tr>\n",
       "    <tr>\n",
       "      <th>77027.0</th>\n",
       "      <td>95.000000</td>\n",
       "      <td>1.086646e+06</td>\n",
       "    </tr>\n",
       "    <tr>\n",
       "      <th>77030.0</th>\n",
       "      <td>81.666667</td>\n",
       "      <td>7.968352e+05</td>\n",
       "    </tr>\n",
       "    <tr>\n",
       "      <th>77054.0</th>\n",
       "      <td>81.668234</td>\n",
       "      <td>2.112291e+05</td>\n",
       "    </tr>\n",
       "    <tr>\n",
       "      <th>77098.0</th>\n",
       "      <td>84.775354</td>\n",
       "      <td>5.678823e+05</td>\n",
       "    </tr>\n",
       "  </tbody>\n",
       "</table>\n",
       "</div>"
      ],
      "text/plain": [
       "          Average School Rating  TOTAL_APPRAISED_VALUE_2019\n",
       "Zip Code                                                   \n",
       "77002.0               76.263158                4.166902e+05\n",
       "77005.0               87.612029                1.194797e+06\n",
       "77006.0               80.560339                5.893119e+05\n",
       "77019.0               86.586930                1.517150e+06\n",
       "77025.0               87.107772                5.133149e+05\n",
       "77027.0               95.000000                1.086646e+06\n",
       "77030.0               81.666667                7.968352e+05\n",
       "77054.0               81.668234                2.112291e+05\n",
       "77098.0               84.775354                5.678823e+05"
      ]
     },
     "execution_count": 20,
     "metadata": {},
     "output_type": "execute_result"
    }
   ],
   "source": [
    "# group charter schools by zip code\n",
    "charter_zip_code = charter_schools[['Zip Code',\"Average School Rating\",'TOTAL_APPRAISED_VALUE_2019']]\n",
    "charter_schools_group = charter_zip_code.groupby([\"Zip Code\"]).mean()\n",
    "charter_schools_group"
   ]
  },
  {
   "cell_type": "code",
   "execution_count": 21,
   "metadata": {},
   "outputs": [
    {
     "data": {
      "image/png": "[encoded data removed]",
      "text/plain": [
       "<Figure size 720x504 with 1 Axes>"
      ]
     },
     "metadata": {
      "needs_background": "light"
     },
     "output_type": "display_data"
    }
   ],
   "source": [
    "# plot average charter school ratings vs property values per zip code and add a linear regression\n",
    "correlation = st.pearsonr(charter_schools_group[\"Average School Rating\"],charter_schools_group[\"TOTAL_APPRAISED_VALUE_2019\"])\n",
    "(slope, intercept, rvalue, pvalue, stderr) = st.linregress(charter_schools_group[\"Average School Rating\"],\n",
    "                                                           charter_schools_group[\"TOTAL_APPRAISED_VALUE_2019\"])\n",
    "regress_values = charter_schools_group[\"Average School Rating\"] * slope + intercept\n",
    "line_eq = f'y = {str(round(slope,2))}x + {str(round(intercept,2))}'\n",
    "fig8,ax = plt.subplots(figsize=(10,7))\n",
    "chart8 = ax.scatter(charter_schools_group['Average School Rating'],charter_schools_group[\"TOTAL_APPRAISED_VALUE_2019\"])\n",
    "plt.plot(charter_schools_group['Average School Rating'], regress_values, \"r-\")\n",
    "plt.annotate(line_eq, (75,1e6),fontsize=10,color='red')\n",
    "plt.annotate(f'r^2={round(correlation[0]**2,2)}',(75,.95e6),fontsize=10,color='red')\n",
    "plt.xlabel('Average Charter School Rating', fontsize=12)\n",
    "plt.ylabel(\"Total Appraised Value\", fontsize=12)\n",
    "plt.title(\"Total Appraised Value vs Average Charter School Ratings per Zip Code\", fontsize=15)\n",
    "plt.suptitle(\"Year: 2019\",x=0.43,fontsize=12)\n",
    "plt.xlim(70,100)\n",
    "plt.ylim(charter_schools_group[\"TOTAL_APPRAISED_VALUE_2019\"].min(),1.4e6)\n",
    "plt.show()"
   ]
  },
  {
   "cell_type": "markdown",
   "metadata": {},
   "source": [
    "### Schools By Neighborhood Group"
   ]
  },
  {
   "cell_type": "code",
   "execution_count": 22,
   "metadata": {},
   "outputs": [
    {
     "data": {
      "text/html": [
       "<div>\n",
       "<style scoped>\n",
       "    .dataframe tbody tr th:only-of-type {\n",
       "        vertical-align: middle;\n",
       "    }\n",
       "\n",
       "    .dataframe tbody tr th {\n",
       "        vertical-align: top;\n",
       "    }\n",
       "\n",
       "    .dataframe thead th {\n",
       "        text-align: right;\n",
       "    }\n",
       "</style>\n",
       "<table border=\"1\" class=\"dataframe\">\n",
       "  <thead>\n",
       "    <tr style=\"text-align: right;\">\n",
       "      <th></th>\n",
       "      <th>Average School Rating</th>\n",
       "      <th>TOTAL_APPRAISED_VALUE_2019</th>\n",
       "    </tr>\n",
       "    <tr>\n",
       "      <th>NEIGHBORHOOD_GROUP</th>\n",
       "      <th></th>\n",
       "      <th></th>\n",
       "    </tr>\n",
       "  </thead>\n",
       "  <tbody>\n",
       "    <tr>\n",
       "      <th>1200.0</th>\n",
       "      <td>84.618138</td>\n",
       "      <td>5.177067e+05</td>\n",
       "    </tr>\n",
       "    <tr>\n",
       "      <th>1201.0</th>\n",
       "      <td>83.313725</td>\n",
       "      <td>5.063222e+06</td>\n",
       "    </tr>\n",
       "    <tr>\n",
       "      <th>1202.0</th>\n",
       "      <td>82.480000</td>\n",
       "      <td>2.115263e+06</td>\n",
       "    </tr>\n",
       "    <tr>\n",
       "      <th>1203.0</th>\n",
       "      <td>83.548403</td>\n",
       "      <td>1.085407e+06</td>\n",
       "    </tr>\n",
       "    <tr>\n",
       "      <th>1204.0</th>\n",
       "      <td>82.807487</td>\n",
       "      <td>7.670739e+05</td>\n",
       "    </tr>\n",
       "  </tbody>\n",
       "</table>\n",
       "</div>"
      ],
      "text/plain": [
       "                    Average School Rating  TOTAL_APPRAISED_VALUE_2019\n",
       "NEIGHBORHOOD_GROUP                                                   \n",
       "1200.0                          84.618138                5.177067e+05\n",
       "1201.0                          83.313725                5.063222e+06\n",
       "1202.0                          82.480000                2.115263e+06\n",
       "1203.0                          83.548403                1.085407e+06\n",
       "1204.0                          82.807487                7.670739e+05"
      ]
     },
     "execution_count": 22,
     "metadata": {},
     "output_type": "execute_result"
    }
   ],
   "source": [
    "# slice data by neighborhood group\n",
    "neighborhood = data[['NEIGHBORHOOD_GROUP',\"Average School Rating\",'TOTAL_APPRAISED_VALUE_2019']]\n",
    "neighborhood_grouped = neighborhood.groupby(['NEIGHBORHOOD_GROUP']).mean()\n",
    "neighborhood_grouped.head()"
   ]
  },
  {
   "cell_type": "code",
   "execution_count": 23,
   "metadata": {},
   "outputs": [
    {
     "data": {
      "image/png": "[encoded data removed]",
      "text/plain": [
       "<Figure size 720x504 with 1 Axes>"
      ]
     },
     "metadata": {
      "needs_background": "light"
     },
     "output_type": "display_data"
    }
   ],
   "source": [
    "# plot average school ratings vs property values per neighborhood grooup and add a linear regression\n",
    "correlation = st.pearsonr(neighborhood_grouped[\"Average School Rating\"],neighborhood_grouped[\"TOTAL_APPRAISED_VALUE_2019\"])\n",
    "(slope, intercept, rvalue, pvalue, stderr) = st.linregress(neighborhood_grouped[\"Average School Rating\"],\n",
    "                                                           neighborhood_grouped[\"TOTAL_APPRAISED_VALUE_2019\"])\n",
    "regress_values = neighborhood_grouped[\"Average School Rating\"] * slope + intercept\n",
    "line_eq = f'y = {str(round(slope,2))}x + {str(round(intercept,2))}'\n",
    "fig9,ax = plt.subplots(figsize=(10,7))\n",
    "chart9 = ax.scatter(neighborhood_grouped['Average School Rating'],neighborhood_grouped[\"TOTAL_APPRAISED_VALUE_2019\"])\n",
    "plt.plot(neighborhood_grouped['Average School Rating'], regress_values, \"r-\")\n",
    "plt.annotate(line_eq, (75,1e6),fontsize=10,color='red')\n",
    "plt.annotate(f'r^2={round(correlation[0]**2,2)}',(75,.95e6),fontsize=10,color='red')\n",
    "plt.xlabel('Average School Rating', fontsize=12)\n",
    "plt.ylabel(\"Total Appraised Value\", fontsize=12)\n",
    "plt.title(\"Total Appraised Value vs Average School Ratings per Neighborhood Group\", fontsize=15)\n",
    "plt.suptitle(\"Year: 2019\",x=0.43,fontsize=12)\n",
    "plt.xlim(70,100)\n",
    "plt.ylim(neighborhood_grouped[\"TOTAL_APPRAISED_VALUE_2019\"].min(),1.4e6)\n",
    "plt.show()"
   ]
  },
  {
   "cell_type": "markdown",
   "metadata": {},
   "source": [
    "### Public Schools By Neighborhood Group"
   ]
  },
  {
   "cell_type": "code",
   "execution_count": 24,
   "metadata": {},
   "outputs": [],
   "source": [
    "# group public schools by neighborhood group\n",
    "public_neighborhood = public_schools[[\"NEIGHBORHOOD_GROUP\",\"Average School Rating\",'TOTAL_APPRAISED_VALUE_2019']]\n",
    "public_neighborhood_group = public_neighborhood.groupby([\"NEIGHBORHOOD_GROUP\"]).mean()"
   ]
  },
  {
   "cell_type": "code",
   "execution_count": 25,
   "metadata": {},
   "outputs": [
    {
     "data": {
      "image/png": "[encoded data removed]",
      "text/plain": [
       "<Figure size 720x504 with 1 Axes>"
      ]
     },
     "metadata": {
      "needs_background": "light"
     },
     "output_type": "display_data"
    }
   ],
   "source": [
    "# plot average public school ratings vs property values per neighborhood grooup and add a linear regression\n",
    "correlation = st.pearsonr(public_neighborhood_group[\"Average School Rating\"],\n",
    "                          public_neighborhood_group[\"TOTAL_APPRAISED_VALUE_2019\"])\n",
    "(slope, intercept, rvalue, pvalue, stderr) = st.linregress(public_neighborhood_group[\"Average School Rating\"],\n",
    "                                                           public_neighborhood_group[\"TOTAL_APPRAISED_VALUE_2019\"])\n",
    "regress_values = public_neighborhood_group[\"Average School Rating\"] * slope + intercept\n",
    "line_eq = f'y = {str(round(slope,2))}x + {str(round(intercept,2))}'\n",
    "fig9,ax = plt.subplots(figsize=(10,7))\n",
    "chart9 = ax.scatter(public_neighborhood_group['Average School Rating'],public_neighborhood_group[\"TOTAL_APPRAISED_VALUE_2019\"])\n",
    "plt.plot(public_neighborhood_group['Average School Rating'], regress_values, \"r-\")\n",
    "plt.annotate(line_eq, (75,1e6),fontsize=10,color='red')\n",
    "plt.annotate(f'r^2={round(correlation[0]**2,2)}',(75,.95e6),fontsize=10,color='red')\n",
    "plt.xlabel('Average Public School Rating', fontsize=12)\n",
    "plt.ylabel(\"Total Appraised Value\", fontsize=12)\n",
    "plt.title(\"Total Appraised Value vs Average Public School Ratings per Neighborhood Group\", fontsize=15)\n",
    "plt.suptitle(\"Year: 2019\",x=0.43,fontsize=12)\n",
    "plt.xlim(70,100)\n",
    "plt.ylim(public_neighborhood_group[\"TOTAL_APPRAISED_VALUE_2019\"].min(),1.4e6)\n",
    "plt.show()"
   ]
  },
  {
   "cell_type": "markdown",
   "metadata": {},
   "source": [
    "### Charter Schools By Neighborhood Group"
   ]
  },
  {
   "cell_type": "code",
   "execution_count": 26,
   "metadata": {},
   "outputs": [
    {
     "data": {
      "text/html": [
       "<div>\n",
       "<style scoped>\n",
       "    .dataframe tbody tr th:only-of-type {\n",
       "        vertical-align: middle;\n",
       "    }\n",
       "\n",
       "    .dataframe tbody tr th {\n",
       "        vertical-align: top;\n",
       "    }\n",
       "\n",
       "    .dataframe thead th {\n",
       "        text-align: right;\n",
       "    }\n",
       "</style>\n",
       "<table border=\"1\" class=\"dataframe\">\n",
       "  <thead>\n",
       "    <tr style=\"text-align: right;\">\n",
       "      <th></th>\n",
       "      <th>Average School Rating</th>\n",
       "      <th>TOTAL_APPRAISED_VALUE_2019</th>\n",
       "    </tr>\n",
       "    <tr>\n",
       "      <th>NEIGHBORHOOD_GROUP</th>\n",
       "      <th></th>\n",
       "      <th></th>\n",
       "    </tr>\n",
       "  </thead>\n",
       "  <tbody>\n",
       "    <tr>\n",
       "      <th>1200.0</th>\n",
       "      <td>82.633254</td>\n",
       "      <td>5.177067e+05</td>\n",
       "    </tr>\n",
       "    <tr>\n",
       "      <th>1201.0</th>\n",
       "      <td>78.333333</td>\n",
       "      <td>5.063222e+06</td>\n",
       "    </tr>\n",
       "    <tr>\n",
       "      <th>1202.0</th>\n",
       "      <td>78.666667</td>\n",
       "      <td>2.115263e+06</td>\n",
       "    </tr>\n",
       "    <tr>\n",
       "      <th>1203.0</th>\n",
       "      <td>81.174231</td>\n",
       "      <td>1.085407e+06</td>\n",
       "    </tr>\n",
       "    <tr>\n",
       "      <th>1204.0</th>\n",
       "      <td>82.112299</td>\n",
       "      <td>7.670739e+05</td>\n",
       "    </tr>\n",
       "  </tbody>\n",
       "</table>\n",
       "</div>"
      ],
      "text/plain": [
       "                    Average School Rating  TOTAL_APPRAISED_VALUE_2019\n",
       "NEIGHBORHOOD_GROUP                                                   \n",
       "1200.0                          82.633254                5.177067e+05\n",
       "1201.0                          78.333333                5.063222e+06\n",
       "1202.0                          78.666667                2.115263e+06\n",
       "1203.0                          81.174231                1.085407e+06\n",
       "1204.0                          82.112299                7.670739e+05"
      ]
     },
     "execution_count": 26,
     "metadata": {},
     "output_type": "execute_result"
    }
   ],
   "source": [
    "# group charter schools by neighborhood group\n",
    "charter_neighborhood = charter_schools[[\"NEIGHBORHOOD_GROUP\",\"Average School Rating\",'TOTAL_APPRAISED_VALUE_2019']]\n",
    "charter_neighborhood_group = charter_neighborhood.groupby([\"NEIGHBORHOOD_GROUP\"]).mean()\n",
    "charter_neighborhood_group.head()"
   ]
  },
  {
   "cell_type": "code",
   "execution_count": 27,
   "metadata": {},
   "outputs": [
    {
     "data": {
      "image/png": "[encoded data removed]",
      "text/plain": [
       "<Figure size 720x504 with 1 Axes>"
      ]
     },
     "metadata": {
      "needs_background": "light"
     },
     "output_type": "display_data"
    },
    {
     "data": {
      "text/plain": [
       "<Figure size 432x288 with 0 Axes>"
      ]
     },
     "metadata": {},
     "output_type": "display_data"
    }
   ],
   "source": [
    "# plot average charter school ratings vs property values per neighborhood grooup and add a linear regression\n",
    "correlation = st.pearsonr(charter_neighborhood_group[\"Average School Rating\"],\n",
    "                          charter_neighborhood_group[\"TOTAL_APPRAISED_VALUE_2019\"])\n",
    "(slope, intercept, rvalue, pvalue, stderr) = st.linregress(charter_neighborhood_group[\"Average School Rating\"],\n",
    "                                                           charter_neighborhood_group[\"TOTAL_APPRAISED_VALUE_2019\"])\n",
    "regress_values = charter_neighborhood_group[\"Average School Rating\"] * slope + intercept\n",
    "line_eq = f'y = {str(round(slope,2))}x + {str(round(intercept,2))}'\n",
    "fig9,ax = plt.subplots(figsize=(10,7))\n",
    "chart9 = ax.scatter(charter_neighborhood_group['Average School Rating'],charter_neighborhood_group[\"TOTAL_APPRAISED_VALUE_2019\"])\n",
    "plt.plot(charter_neighborhood_group['Average School Rating'], regress_values, \"r-\")\n",
    "plt.annotate(line_eq, (75,1e6),fontsize=10,color='red')\n",
    "plt.annotate(f'r^2={round(correlation[0]**2,2)}',(75,.95e6),fontsize=10,color='red')\n",
    "plt.xlabel('Average Charter School Rating', fontsize=12)\n",
    "plt.ylabel(\"Total Appraised Value\", fontsize=12)\n",
    "plt.title(\"Total Appraised Value vs Average Charter School Ratings per Neighborhood Group\", fontsize=15)\n",
    "plt.suptitle(\"Year: 2019\",x=0.43,fontsize=12)\n",
    "plt.xlim(70,100)\n",
    "plt.ylim(charter_neighborhood_group[\"TOTAL_APPRAISED_VALUE_2019\"].min(),1.4e6)\n",
    "plt.show()\n",
    "plt.savefig(\"Output/appraised_value_vs_charter_school_ratings.png\")"
   ]
  },
  {
   "cell_type": "markdown",
   "metadata": {},
   "source": [
    "##  Remove Charter Schools From the Final Data"
   ]
  },
  {
   "cell_type": "code",
   "execution_count": 28,
   "metadata": {},
   "outputs": [],
   "source": [
    "# create a dataset without charter schools\n",
    "only_public_schools = data.drop(['Elementary Charter School ID','Elementary Charter School Name',\n",
    "                                 'Elementary Charter School Rating','Charter Middle School ID',\n",
    "                                 'Charter Middle School Name', 'Charter Middle School Rating',\n",
    "                                 'Charter High School ID','Charter High School Name',\n",
    "                                 'Charter High School Rating'], axis=1)\n",
    "\n",
    "value_2019 = only_public_schools['TOTAL_APPRAISED_VALUE_2019']\n",
    "value_2018 = only_public_schools['TOTAL_APPRAISED_VALUE_2018']\n",
    "only_public_schools[\"pct_change\"] = (value_2019-value_2018)/value_2018*100"
   ]
  },
  {
   "cell_type": "markdown",
   "metadata": {},
   "source": [
    "# Create A Correlation Matrix Of Key Parameters"
   ]
  },
  {
   "cell_type": "code",
   "execution_count": 46,
   "metadata": {},
   "outputs": [
    {
     "data": {
      "text/html": [
       "<div>\n",
       "<style scoped>\n",
       "    .dataframe tbody tr th:only-of-type {\n",
       "        vertical-align: middle;\n",
       "    }\n",
       "\n",
       "    .dataframe tbody tr th {\n",
       "        vertical-align: top;\n",
       "    }\n",
       "\n",
       "    .dataframe thead th {\n",
       "        text-align: right;\n",
       "    }\n",
       "</style>\n",
       "<table border=\"1\" class=\"dataframe\">\n",
       "  <thead>\n",
       "    <tr style=\"text-align: right;\">\n",
       "      <th></th>\n",
       "      <th>ACCOUNT</th>\n",
       "      <th>PURCHASE_DATE</th>\n",
       "      <th>NAME</th>\n",
       "      <th>SITE_ADDRESS</th>\n",
       "    </tr>\n",
       "  </thead>\n",
       "  <tbody>\n",
       "    <tr>\n",
       "      <th>0</th>\n",
       "      <td>0041690000061</td>\n",
       "      <td>2017-10-16 00:00:00.000</td>\n",
       "      <td>YANES JOSE</td>\n",
       "      <td>14908 YARBERRY ST</td>\n",
       "    </tr>\n",
       "    <tr>\n",
       "      <th>1</th>\n",
       "      <td>0041690000064</td>\n",
       "      <td>2006-04-18 00:00:00.000</td>\n",
       "      <td>SELMAN RONALD L</td>\n",
       "      <td>0 YARBERRY</td>\n",
       "    </tr>\n",
       "    <tr>\n",
       "      <th>2</th>\n",
       "      <td>0041690000071</td>\n",
       "      <td>2005-04-05 00:00:00.000</td>\n",
       "      <td>FLORES LEONEL</td>\n",
       "      <td>14903 ORMEL ST</td>\n",
       "    </tr>\n",
       "    <tr>\n",
       "      <th>3</th>\n",
       "      <td>0041690000074</td>\n",
       "      <td>2003-12-11 00:00:00.000</td>\n",
       "      <td>FLORES LEONEL &amp; LUCILA</td>\n",
       "      <td>14903 ORMEL ST</td>\n",
       "    </tr>\n",
       "    <tr>\n",
       "      <th>4</th>\n",
       "      <td>0041690000076</td>\n",
       "      <td>2015-03-23 00:00:00.000</td>\n",
       "      <td>AGUIRRE ROMEL F</td>\n",
       "      <td>14904 ORMEL ST</td>\n",
       "    </tr>\n",
       "  </tbody>\n",
       "</table>\n",
       "</div>"
      ],
      "text/plain": [
       "                     ACCOUNT            PURCHASE_DATE                    NAME  \\\n",
       "0  0041690000061              2017-10-16 00:00:00.000              YANES JOSE   \n",
       "1  0041690000064              2006-04-18 00:00:00.000         SELMAN RONALD L   \n",
       "2  0041690000071              2005-04-05 00:00:00.000           FLORES LEONEL   \n",
       "3  0041690000074              2003-12-11 00:00:00.000  FLORES LEONEL & LUCILA   \n",
       "4  0041690000076              2015-03-23 00:00:00.000         AGUIRRE ROMEL F   \n",
       "\n",
       "        SITE_ADDRESS  \n",
       "0  14908 YARBERRY ST  \n",
       "1         0 YARBERRY  \n",
       "2     14903 ORMEL ST  \n",
       "3     14903 ORMEL ST  \n",
       "4     14904 ORMEL ST  "
      ]
     },
     "execution_count": 46,
     "metadata": {},
     "output_type": "execute_result"
    }
   ],
   "source": [
    "import csv\n",
    "filepath = \"Resources/ownership_history.txt\"\n",
    "owner_data = []\n",
    "\n",
    "with open(filepath,'r')as txtfile:\n",
    "    csvreader=csv.reader(txtfile, delimiter = '\\t')\n",
    "    for row in csvreader:\n",
    "        owner_data.append(row)\n",
    "owner_info = pd.DataFrame(columns=[\"ACCOUNT\",\"PURCHASE_DATE\",\"NAME\",\"SITE_ADDRESS\"],data=owner_data)\n",
    "owner_info.head()"
   ]
  },
  {
   "cell_type": "code",
   "execution_count": 29,
   "metadata": {},
   "outputs": [
    {
     "ename": "KeyError",
     "evalue": "'NEW_OWNER_DATE'",
     "output_type": "error",
     "traceback": [
      "\u001b[1;31m---------------------------------------------------------------------------\u001b[0m",
      "\u001b[1;31mKeyError\u001b[0m                                  Traceback (most recent call last)",
      "\u001b[1;32m~\\anaconda3\\envs\\PythonData\\lib\\site-packages\\pandas\\core\\indexes\\base.py\u001b[0m in \u001b[0;36mget_loc\u001b[1;34m(self, key, method, tolerance)\u001b[0m\n\u001b[0;32m   2645\u001b[0m             \u001b[1;32mtry\u001b[0m\u001b[1;33m:\u001b[0m\u001b[1;33m\u001b[0m\u001b[1;33m\u001b[0m\u001b[0m\n\u001b[1;32m-> 2646\u001b[1;33m                 \u001b[1;32mreturn\u001b[0m \u001b[0mself\u001b[0m\u001b[1;33m.\u001b[0m\u001b[0m_engine\u001b[0m\u001b[1;33m.\u001b[0m\u001b[0mget_loc\u001b[0m\u001b[1;33m(\u001b[0m\u001b[0mkey\u001b[0m\u001b[1;33m)\u001b[0m\u001b[1;33m\u001b[0m\u001b[1;33m\u001b[0m\u001b[0m\n\u001b[0m\u001b[0;32m   2647\u001b[0m             \u001b[1;32mexcept\u001b[0m \u001b[0mKeyError\u001b[0m\u001b[1;33m:\u001b[0m\u001b[1;33m\u001b[0m\u001b[1;33m\u001b[0m\u001b[0m\n",
      "\u001b[1;32mpandas\\_libs\\index.pyx\u001b[0m in \u001b[0;36mpandas._libs.index.IndexEngine.get_loc\u001b[1;34m()\u001b[0m\n",
      "\u001b[1;32mpandas\\_libs\\index.pyx\u001b[0m in \u001b[0;36mpandas._libs.index.IndexEngine.get_loc\u001b[1;34m()\u001b[0m\n",
      "\u001b[1;32mpandas\\_libs\\hashtable_class_helper.pxi\u001b[0m in \u001b[0;36mpandas._libs.hashtable.PyObjectHashTable.get_item\u001b[1;34m()\u001b[0m\n",
      "\u001b[1;32mpandas\\_libs\\hashtable_class_helper.pxi\u001b[0m in \u001b[0;36mpandas._libs.hashtable.PyObjectHashTable.get_item\u001b[1;34m()\u001b[0m\n",
      "\u001b[1;31mKeyError\u001b[0m: 'NEW_OWNER_DATE'",
      "\nDuring handling of the above exception, another exception occurred:\n",
      "\u001b[1;31mKeyError\u001b[0m                                  Traceback (most recent call last)",
      "\u001b[1;32m<ipython-input-29-1b439d47a351>\u001b[0m in \u001b[0;36m<module>\u001b[1;34m\u001b[0m\n\u001b[0;32m      1\u001b[0m \u001b[1;31m# add column to track sale activity in the year 2019\u001b[0m\u001b[1;33m\u001b[0m\u001b[1;33m\u001b[0m\u001b[1;33m\u001b[0m\u001b[0m\n\u001b[1;32m----> 2\u001b[1;33m \u001b[0monly_public_schools\u001b[0m\u001b[1;33m[\u001b[0m\u001b[1;34m\"Sale Year\"\u001b[0m\u001b[1;33m]\u001b[0m \u001b[1;33m=\u001b[0m \u001b[0monly_public_schools\u001b[0m\u001b[1;33m[\u001b[0m\u001b[1;34m\"NEW_OWNER_DATE\"\u001b[0m\u001b[1;33m]\u001b[0m\u001b[1;33m.\u001b[0m\u001b[0mstr\u001b[0m\u001b[1;33m.\u001b[0m\u001b[0msplit\u001b[0m\u001b[1;33m(\u001b[0m\u001b[1;34m'-'\u001b[0m\u001b[1;33m)\u001b[0m\u001b[1;33m.\u001b[0m\u001b[0mstr\u001b[0m\u001b[1;33m[\u001b[0m\u001b[1;36m0\u001b[0m\u001b[1;33m]\u001b[0m\u001b[1;33m\u001b[0m\u001b[1;33m\u001b[0m\u001b[0m\n\u001b[0m\u001b[0;32m      3\u001b[0m \u001b[0monly_public_schools\u001b[0m\u001b[1;33m[\u001b[0m\u001b[1;34m'2019 Sales'\u001b[0m\u001b[1;33m]\u001b[0m\u001b[1;33m=\u001b[0m\u001b[0mnp\u001b[0m\u001b[1;33m.\u001b[0m\u001b[0mwhere\u001b[0m\u001b[1;33m(\u001b[0m\u001b[0monly_public_schools\u001b[0m\u001b[1;33m[\u001b[0m\u001b[1;34m'Sale Year'\u001b[0m\u001b[1;33m]\u001b[0m\u001b[1;33m==\u001b[0m\u001b[1;34m'2019'\u001b[0m\u001b[1;33m,\u001b[0m\u001b[1;36m1\u001b[0m\u001b[1;33m,\u001b[0m\u001b[1;36m0\u001b[0m\u001b[1;33m)\u001b[0m\u001b[1;33m\u001b[0m\u001b[1;33m\u001b[0m\u001b[0m\n\u001b[0;32m      4\u001b[0m \u001b[0monly_public_schools\u001b[0m\u001b[1;33m.\u001b[0m\u001b[0mto_csv\u001b[0m\u001b[1;33m(\u001b[0m\u001b[1;34m\"Output/combined_data_without_charter_schools.csv\"\u001b[0m\u001b[1;33m,\u001b[0m\u001b[0mindex\u001b[0m\u001b[1;33m=\u001b[0m\u001b[1;32mFalse\u001b[0m\u001b[1;33m)\u001b[0m\u001b[1;33m\u001b[0m\u001b[1;33m\u001b[0m\u001b[0m\n\u001b[0;32m      5\u001b[0m \u001b[0monly_public_schools\u001b[0m\u001b[1;33m.\u001b[0m\u001b[0mhead\u001b[0m\u001b[1;33m(\u001b[0m\u001b[1;33m)\u001b[0m\u001b[1;33m\u001b[0m\u001b[1;33m\u001b[0m\u001b[0m\n",
      "\u001b[1;32m~\\anaconda3\\envs\\PythonData\\lib\\site-packages\\pandas\\core\\frame.py\u001b[0m in \u001b[0;36m__getitem__\u001b[1;34m(self, key)\u001b[0m\n\u001b[0;32m   2798\u001b[0m             \u001b[1;32mif\u001b[0m \u001b[0mself\u001b[0m\u001b[1;33m.\u001b[0m\u001b[0mcolumns\u001b[0m\u001b[1;33m.\u001b[0m\u001b[0mnlevels\u001b[0m \u001b[1;33m>\u001b[0m \u001b[1;36m1\u001b[0m\u001b[1;33m:\u001b[0m\u001b[1;33m\u001b[0m\u001b[1;33m\u001b[0m\u001b[0m\n\u001b[0;32m   2799\u001b[0m                 \u001b[1;32mreturn\u001b[0m \u001b[0mself\u001b[0m\u001b[1;33m.\u001b[0m\u001b[0m_getitem_multilevel\u001b[0m\u001b[1;33m(\u001b[0m\u001b[0mkey\u001b[0m\u001b[1;33m)\u001b[0m\u001b[1;33m\u001b[0m\u001b[1;33m\u001b[0m\u001b[0m\n\u001b[1;32m-> 2800\u001b[1;33m             \u001b[0mindexer\u001b[0m \u001b[1;33m=\u001b[0m \u001b[0mself\u001b[0m\u001b[1;33m.\u001b[0m\u001b[0mcolumns\u001b[0m\u001b[1;33m.\u001b[0m\u001b[0mget_loc\u001b[0m\u001b[1;33m(\u001b[0m\u001b[0mkey\u001b[0m\u001b[1;33m)\u001b[0m\u001b[1;33m\u001b[0m\u001b[1;33m\u001b[0m\u001b[0m\n\u001b[0m\u001b[0;32m   2801\u001b[0m             \u001b[1;32mif\u001b[0m \u001b[0mis_integer\u001b[0m\u001b[1;33m(\u001b[0m\u001b[0mindexer\u001b[0m\u001b[1;33m)\u001b[0m\u001b[1;33m:\u001b[0m\u001b[1;33m\u001b[0m\u001b[1;33m\u001b[0m\u001b[0m\n\u001b[0;32m   2802\u001b[0m                 \u001b[0mindexer\u001b[0m \u001b[1;33m=\u001b[0m \u001b[1;33m[\u001b[0m\u001b[0mindexer\u001b[0m\u001b[1;33m]\u001b[0m\u001b[1;33m\u001b[0m\u001b[1;33m\u001b[0m\u001b[0m\n",
      "\u001b[1;32m~\\anaconda3\\envs\\PythonData\\lib\\site-packages\\pandas\\core\\indexes\\base.py\u001b[0m in \u001b[0;36mget_loc\u001b[1;34m(self, key, method, tolerance)\u001b[0m\n\u001b[0;32m   2646\u001b[0m                 \u001b[1;32mreturn\u001b[0m \u001b[0mself\u001b[0m\u001b[1;33m.\u001b[0m\u001b[0m_engine\u001b[0m\u001b[1;33m.\u001b[0m\u001b[0mget_loc\u001b[0m\u001b[1;33m(\u001b[0m\u001b[0mkey\u001b[0m\u001b[1;33m)\u001b[0m\u001b[1;33m\u001b[0m\u001b[1;33m\u001b[0m\u001b[0m\n\u001b[0;32m   2647\u001b[0m             \u001b[1;32mexcept\u001b[0m \u001b[0mKeyError\u001b[0m\u001b[1;33m:\u001b[0m\u001b[1;33m\u001b[0m\u001b[1;33m\u001b[0m\u001b[0m\n\u001b[1;32m-> 2648\u001b[1;33m                 \u001b[1;32mreturn\u001b[0m \u001b[0mself\u001b[0m\u001b[1;33m.\u001b[0m\u001b[0m_engine\u001b[0m\u001b[1;33m.\u001b[0m\u001b[0mget_loc\u001b[0m\u001b[1;33m(\u001b[0m\u001b[0mself\u001b[0m\u001b[1;33m.\u001b[0m\u001b[0m_maybe_cast_indexer\u001b[0m\u001b[1;33m(\u001b[0m\u001b[0mkey\u001b[0m\u001b[1;33m)\u001b[0m\u001b[1;33m)\u001b[0m\u001b[1;33m\u001b[0m\u001b[1;33m\u001b[0m\u001b[0m\n\u001b[0m\u001b[0;32m   2649\u001b[0m         \u001b[0mindexer\u001b[0m \u001b[1;33m=\u001b[0m \u001b[0mself\u001b[0m\u001b[1;33m.\u001b[0m\u001b[0mget_indexer\u001b[0m\u001b[1;33m(\u001b[0m\u001b[1;33m[\u001b[0m\u001b[0mkey\u001b[0m\u001b[1;33m]\u001b[0m\u001b[1;33m,\u001b[0m \u001b[0mmethod\u001b[0m\u001b[1;33m=\u001b[0m\u001b[0mmethod\u001b[0m\u001b[1;33m,\u001b[0m \u001b[0mtolerance\u001b[0m\u001b[1;33m=\u001b[0m\u001b[0mtolerance\u001b[0m\u001b[1;33m)\u001b[0m\u001b[1;33m\u001b[0m\u001b[1;33m\u001b[0m\u001b[0m\n\u001b[0;32m   2650\u001b[0m         \u001b[1;32mif\u001b[0m \u001b[0mindexer\u001b[0m\u001b[1;33m.\u001b[0m\u001b[0mndim\u001b[0m \u001b[1;33m>\u001b[0m \u001b[1;36m1\u001b[0m \u001b[1;32mor\u001b[0m \u001b[0mindexer\u001b[0m\u001b[1;33m.\u001b[0m\u001b[0msize\u001b[0m \u001b[1;33m>\u001b[0m \u001b[1;36m1\u001b[0m\u001b[1;33m:\u001b[0m\u001b[1;33m\u001b[0m\u001b[1;33m\u001b[0m\u001b[0m\n",
      "\u001b[1;32mpandas\\_libs\\index.pyx\u001b[0m in \u001b[0;36mpandas._libs.index.IndexEngine.get_loc\u001b[1;34m()\u001b[0m\n",
      "\u001b[1;32mpandas\\_libs\\index.pyx\u001b[0m in \u001b[0;36mpandas._libs.index.IndexEngine.get_loc\u001b[1;34m()\u001b[0m\n",
      "\u001b[1;32mpandas\\_libs\\hashtable_class_helper.pxi\u001b[0m in \u001b[0;36mpandas._libs.hashtable.PyObjectHashTable.get_item\u001b[1;34m()\u001b[0m\n",
      "\u001b[1;32mpandas\\_libs\\hashtable_class_helper.pxi\u001b[0m in \u001b[0;36mpandas._libs.hashtable.PyObjectHashTable.get_item\u001b[1;34m()\u001b[0m\n",
      "\u001b[1;31mKeyError\u001b[0m: 'NEW_OWNER_DATE'"
     ]
    }
   ],
   "source": [
    "# add column to track sale activity in the year 2019\n",
    "only_public_schools[\"Sale Year\"] = only_public_schools[\"NEW_OWNER_DATE\"].str.split('-').str[0]\n",
    "only_public_schools['2019 Sales']=np.where(only_public_schools['Sale Year']=='2019',1,0)\n",
    "only_public_schools.to_csv(\"Output/combined_data_without_charter_schools.csv\",index=False)\n",
    "only_public_schools.head()"
   ]
  },
  {
   "cell_type": "code",
   "execution_count": null,
   "metadata": {},
   "outputs": [],
   "source": [
    "# set up data for correlation matrix\n",
    "correlation_data = only_public_schools[['Flood Risk','TOTAL_BUILDING_AREA','ACREAGE','TOTAL_APPRAISED_VALUE_2019',\n",
    "                                        'crime_rank','Average School Rating','pct_change','2019 Sales']]\n",
    "correlation_data.head()"
   ]
  },
  {
   "cell_type": "code",
   "execution_count": null,
   "metadata": {},
   "outputs": [],
   "source": [
    "# create a correlation matrix\n",
    "corr = correlation_data.corr()\n",
    "corr = corr.unstack().sort_values()\n",
    "corr = corr.unstack()\n",
    "corr2=np.tril(corr, k=0)\n",
    "f, ax = plt.subplots(figsize=(10,10))\n",
    "ax = sns.heatmap(corr2,cmap=\"coolwarm\",annot=True)\n",
    "mask = np.triu(np.ones_like(corr2, dtype=np.bool))\n",
    "plt.xticks(range(corr.shape[1]), corr.columns, fontsize=14, rotation=90)\n",
    "plt.yticks(range(corr.shape[1]), corr.columns, fontsize=14, rotation=0)\n",
    "corr.style.background_gradient(cmap='coolwarm').set_precision(2)\n",
    "plt.tight_layout()\n",
    "plt.savefig(\"Output/correlation_matrix.png\")"
   ]
  },
  {
   "cell_type": "code",
   "execution_count": null,
   "metadata": {},
   "outputs": [],
   "source": []
  }
 ],
 "metadata": {
  "kernelspec": {
   "display_name": "Python [conda env:PythonData] *",
   "language": "python",
   "name": "conda-env-PythonData-py"
  },
  "language_info": {
   "codemirror_mode": {
    "name": "ipython",
    "version": 3
   },
   "file_extension": ".py",
   "mimetype": "text/x-python",
   "name": "python",
   "nbconvert_exporter": "python",
   "pygments_lexer": "ipython3",
   "version": "3.8.3"
  }
 },
 "nbformat": 4,
 "nbformat_minor": 4
}
