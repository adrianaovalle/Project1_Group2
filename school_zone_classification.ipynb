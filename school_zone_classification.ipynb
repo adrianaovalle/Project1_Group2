{
 "cells": [
  {
   "cell_type": "markdown",
   "metadata": {},
   "source": [
    "# Classification of Flood&Crime Dataset  Using KNN\n",
    "## Training dataset = School Ratings Data"
   ]
  },
  {
   "cell_type": "code",
   "execution_count": 1,
   "metadata": {},
   "outputs": [],
   "source": [
    "import pandas as pd\n",
    "import numpy as np\n",
    "import matplotlib.pyplot as plt\n",
    "from sklearn.neighbors import KNeighborsClassifier"
   ]
  },
  {
   "cell_type": "code",
   "execution_count": 2,
   "metadata": {},
   "outputs": [
    {
     "name": "stdout",
     "output_type": "stream",
     "text": [
      "<class 'pandas.core.frame.DataFrame'>\n",
      "RangeIndex: 972 entries, 0 to 971\n",
      "Data columns (total 52 columns):\n",
      " #   Column                    Non-Null Count  Dtype  \n",
      "---  ------                    --------------  -----  \n",
      " 0   Unnamed: 0                972 non-null    int64  \n",
      " 1   School.ID                 972 non-null    int64  \n",
      " 2   School.Name               972 non-null    object \n",
      " 3   Street.Address            972 non-null    object \n",
      " 4   CITY                      972 non-null    object \n",
      " 5   ZIP                       972 non-null    float64\n",
      " 6   County                    972 non-null    object \n",
      " 7   District.Name             972 non-null    object \n",
      " 8   School.Type               972 non-null    object \n",
      " 9   Charter.Trad              972 non-null    object \n",
      " 10  Grade.Current             972 non-null    object \n",
      " 11  TEA Grade                 972 non-null    object \n",
      " 12  GoldRibbon                68 non-null     float64\n",
      " 13  PEG                       972 non-null    object \n",
      " 14  County_Ranking            972 non-null    object \n",
      " 15  Asian.pct                 972 non-null    float64\n",
      " 16  Black.pct                 972 non-null    float64\n",
      " 17  Hispanic.pct              972 non-null    float64\n",
      " 18  Other_race.pct            972 non-null    float64\n",
      " 19  White.pct                 972 non-null    float64\n",
      " 20  Total.Enrollment          972 non-null    float64\n",
      " 21  Special.Ed                972 non-null    float64\n",
      " 22  Teacher.Beginner.pct      945 non-null    float64\n",
      " 23  Teacher.1to5.pct          945 non-null    float64\n",
      " 24  Teacher.6more.pct         945 non-null    float64\n",
      " 25  Econ.Dis                  972 non-null    float64\n",
      " 26  ELL.pct                   972 non-null    float64\n",
      " 27  Student.Mobility          972 non-null    float64\n",
      " 28  Reading.Current           972 non-null    float64\n",
      " 29  Reading.District          972 non-null    float64\n",
      " 30  Reading.County            972 non-null    float64\n",
      " 31  Reading.Compare.District  972 non-null    object \n",
      " 32  Reading.Compare.County    972 non-null    object \n",
      " 33  Math.Current              972 non-null    float64\n",
      " 34  Math.District             972 non-null    float64\n",
      " 35  Math.County               972 non-null    float64\n",
      " 36  Math.Compare.District     972 non-null    object \n",
      " 37  Math.Compare.County       972 non-null    object \n",
      " 38  Reading.Current-1         915 non-null    float64\n",
      " 39  Reading.Current-2         889 non-null    float64\n",
      " 40  Reading.Change            915 non-null    object \n",
      " 41  Math.Current-1            915 non-null    float64\n",
      " 42  Math.Current-2            889 non-null    float64\n",
      " 43  Math.Change               915 non-null    object \n",
      " 44  Student.Growth.Reading    972 non-null    object \n",
      " 45  Student.Growth.Math       972 non-null    object \n",
      " 46  School.Program            331 non-null    object \n",
      " 47  Community.Resources       331 non-null    object \n",
      " 48  longitude                 972 non-null    float64\n",
      " 49  latitude                  972 non-null    float64\n",
      " 50  Student.Teacher.Ratio     945 non-null    float64\n",
      " 51  Grade.Range               972 non-null    object \n",
      "dtypes: float64(28), int64(2), object(22)\n",
      "memory usage: 395.0+ KB\n"
     ]
    }
   ],
   "source": [
    "# read school data file and make into a DataFrame\n",
    "schools_file = pd.read_csv('Resources/Schools_Ratings_Harris_Co.csv')\n",
    "schools_harris = pd.DataFrame(schools_file)\n",
    "schools_harris.info()"
   ]
  },
  {
   "cell_type": "code",
   "execution_count": 3,
   "metadata": {},
   "outputs": [],
   "source": [
    "# convert TEA grades to numbers, A=95, B=85, C=75, D=65, F=55\n",
    "schools_harris[\"School Rating\"] = \"\"\n",
    "schools_harris.loc[schools_harris[\"TEA Grade\"]==\"A\", \"School Rating\"]=95\n",
    "schools_harris.loc[schools_harris[\"TEA Grade\"]==\"B\", \"School Rating\"]=85\n",
    "schools_harris.loc[schools_harris[\"TEA Grade\"]==\"C\", \"School Rating\"]=75\n",
    "schools_harris.loc[schools_harris[\"TEA Grade\"]==\"D\", \"School Rating\"]=65\n",
    "schools_harris.loc[schools_harris[\"TEA Grade\"]==\"F\", \"School Rating\"]=55"
   ]
  },
  {
   "cell_type": "code",
   "execution_count": 4,
   "metadata": {},
   "outputs": [
    {
     "name": "stdout",
     "output_type": "stream",
     "text": [
      "<class 'pandas.core.frame.DataFrame'>\n",
      "Int64Index: 26253 entries, 0 to 26252\n",
      "Data columns (total 28 columns):\n",
      " #   Column                                      Non-Null Count  Dtype  \n",
      "---  ------                                      --------------  -----  \n",
      " 0   Unnamed: 0                                  26253 non-null  int64  \n",
      " 1   Address                                     26253 non-null  object \n",
      " 2   Latitude                                    26253 non-null  float64\n",
      " 3   Longitude                                   26253 non-null  float64\n",
      " 4   Flood Description                           20837 non-null  object \n",
      " 5   Flood Zone                                  26253 non-null  object \n",
      " 6   Flood Risk                                  26253 non-null  int64  \n",
      " 7   SITE_ADDR_1                                 26253 non-null  object \n",
      " 8   ACCOUNT                                     26253 non-null  int64  \n",
      " 9   SITE_ADDR_3                                 26253 non-null  int64  \n",
      " 10  NEIGHBORHOOD_CODE                           26253 non-null  float64\n",
      " 11  NEIGHBORHOOD_GROUP                          26253 non-null  float64\n",
      " 12  TOTAL_BUILDING_AREA                         26253 non-null  float64\n",
      " 13  TOTAL_LAND_AREA                             26253 non-null  float64\n",
      " 14  ACREAGE                                     26253 non-null  float64\n",
      " 15  LAND_VALUE_2019                             26253 non-null  float64\n",
      " 16  TOTAL_APPRAISED_VALUE_2019                  26253 non-null  float64\n",
      " 17  TOTAL_MARKET_VALUE_2019                     26253 non-null  float64\n",
      " 18  LAND_VALUE_2018                             26253 non-null  float64\n",
      " 19  TOTAL_APPRAISED_VALUE_2018                  26253 non-null  float64\n",
      " 20  TOTAL_MARKET_VALUE_2018                     26253 non-null  float64\n",
      " 21  pct_change_land_value_2018_2019             26253 non-null  float64\n",
      " 22  pct_change_total_appraised_value_2018_2019  26253 non-null  float64\n",
      " 23  pct_change_total_market_value_2018_2019     26253 non-null  float64\n",
      " 24  SQ_FT                                       26253 non-null  int64  \n",
      " 25  NEIGHBORHOOD                                26253 non-null  object \n",
      " 26  Offense Count                               26253 non-null  int64  \n",
      " 27  crime_rank                                  26253 non-null  float64\n",
      "dtypes: float64(17), int64(6), object(5)\n",
      "memory usage: 5.8+ MB\n"
     ]
    }
   ],
   "source": [
    "# read file with residential addresses and make into a DataFrame\n",
    "res_file = pd.read_csv('Resources/flood_crime_hcad.csv')\n",
    "test_df = pd.DataFrame(res_file)\n",
    "test_df = test_df.dropna(how=\"any\",subset=['Latitude','Longitude'])\n",
    "test_df.info()"
   ]
  },
  {
   "cell_type": "markdown",
   "metadata": {},
   "source": [
    "## Zoning for elementary public schools"
   ]
  },
  {
   "cell_type": "code",
   "execution_count": 5,
   "metadata": {},
   "outputs": [],
   "source": [
    "# training dataset for elementary public schools\n",
    "elem_pub = schools_harris.loc[\n",
    "    (schools_harris['School.Type']=='Elementary')&(schools_harris['Charter.Trad']=='Traditional Public School'),:]"
   ]
  },
  {
   "cell_type": "code",
   "execution_count": 6,
   "metadata": {},
   "outputs": [
    {
     "data": {
      "text/plain": [
       "KNeighborsClassifier(algorithm='auto', leaf_size=30, metric='minkowski',\n",
       "                     metric_params=None, n_jobs=None, n_neighbors=1, p=2,\n",
       "                     weights='uniform')"
      ]
     },
     "execution_count": 6,
     "metadata": {},
     "output_type": "execute_result"
    }
   ],
   "source": [
    "# elementary public schools classifier\n",
    "elem_pub_classifier = KNeighborsClassifier(n_neighbors=1)\n",
    "elem_pub_classifier.fit(elem_pub.loc[:,[\"latitude\",\"longitude\"]],elem_pub[\"School.ID\"])"
   ]
  },
  {
   "cell_type": "code",
   "execution_count": 7,
   "metadata": {},
   "outputs": [],
   "source": [
    "# elementary public schools classification results\n",
    "elem_pub_pred = elem_pub_classifier.predict(test_df.loc[:,['Latitude','Longitude']])"
   ]
  },
  {
   "cell_type": "markdown",
   "metadata": {},
   "source": [
    "## Zoning for elementary charter schools"
   ]
  },
  {
   "cell_type": "code",
   "execution_count": 8,
   "metadata": {},
   "outputs": [],
   "source": [
    "# training dataset for elementary charter schools\n",
    "elem_charter = schools_harris.loc[\n",
    "    (schools_harris['School.Type']=='Elementary')&(schools_harris['Charter.Trad']=='Charter'),:]"
   ]
  },
  {
   "cell_type": "code",
   "execution_count": 9,
   "metadata": {},
   "outputs": [
    {
     "data": {
      "text/plain": [
       "KNeighborsClassifier(algorithm='auto', leaf_size=30, metric='minkowski',\n",
       "                     metric_params=None, n_jobs=None, n_neighbors=1, p=2,\n",
       "                     weights='uniform')"
      ]
     },
     "execution_count": 9,
     "metadata": {},
     "output_type": "execute_result"
    }
   ],
   "source": [
    "# elementary charter schools classifier\n",
    "elem_char_classifier = KNeighborsClassifier(n_neighbors=1)\n",
    "elem_char_classifier.fit(elem_charter.loc[:,[\"latitude\",\"longitude\"]],elem_charter[\"School.ID\"])"
   ]
  },
  {
   "cell_type": "code",
   "execution_count": 10,
   "metadata": {},
   "outputs": [],
   "source": [
    "# elementary charter schools classification results\n",
    "elem_char_pred = elem_char_classifier.predict(test_df.loc[:,['Latitude','Longitude']])"
   ]
  },
  {
   "cell_type": "markdown",
   "metadata": {},
   "source": [
    "## Zoning for public middle schools"
   ]
  },
  {
   "cell_type": "code",
   "execution_count": 11,
   "metadata": {},
   "outputs": [],
   "source": [
    "# training dataset for public middle schools\n",
    "middle_pub = schools_harris.loc[\n",
    "    (schools_harris['School.Type']=='Middle')&(schools_harris['Charter.Trad']=='Traditional Public School'),:]"
   ]
  },
  {
   "cell_type": "code",
   "execution_count": 12,
   "metadata": {},
   "outputs": [
    {
     "data": {
      "text/plain": [
       "KNeighborsClassifier(algorithm='auto', leaf_size=30, metric='minkowski',\n",
       "                     metric_params=None, n_jobs=None, n_neighbors=1, p=2,\n",
       "                     weights='uniform')"
      ]
     },
     "execution_count": 12,
     "metadata": {},
     "output_type": "execute_result"
    }
   ],
   "source": [
    "# public middle schools classifier\n",
    "middle_pub_classifier = KNeighborsClassifier(n_neighbors=1)\n",
    "middle_pub_classifier.fit(middle_pub.loc[:,[\"latitude\",\"longitude\"]],middle_pub[\"School.ID\"])"
   ]
  },
  {
   "cell_type": "code",
   "execution_count": 13,
   "metadata": {},
   "outputs": [],
   "source": [
    "# public middle schools classification results\n",
    "middle_pub_pred = middle_pub_classifier.predict(test_df.loc[:,['Latitude','Longitude']])"
   ]
  },
  {
   "cell_type": "markdown",
   "metadata": {},
   "source": [
    "## Zoning for charter middle schools"
   ]
  },
  {
   "cell_type": "code",
   "execution_count": 14,
   "metadata": {},
   "outputs": [],
   "source": [
    "# training dataset for charter middle schools\n",
    "middle_charter = schools_harris.loc[\n",
    "    (schools_harris['School.Type']=='Middle')&(schools_harris['Charter.Trad']=='Charter'),:]"
   ]
  },
  {
   "cell_type": "code",
   "execution_count": 15,
   "metadata": {},
   "outputs": [
    {
     "data": {
      "text/plain": [
       "KNeighborsClassifier(algorithm='auto', leaf_size=30, metric='minkowski',\n",
       "                     metric_params=None, n_jobs=None, n_neighbors=1, p=2,\n",
       "                     weights='uniform')"
      ]
     },
     "execution_count": 15,
     "metadata": {},
     "output_type": "execute_result"
    }
   ],
   "source": [
    "# charter middle schools classifier\n",
    "middle_char_classifier = KNeighborsClassifier(n_neighbors=1)\n",
    "middle_char_classifier.fit(middle_charter.loc[:,[\"latitude\",\"longitude\"]],middle_charter[\"School.ID\"])"
   ]
  },
  {
   "cell_type": "code",
   "execution_count": 16,
   "metadata": {},
   "outputs": [],
   "source": [
    "# charter middle schools classification results\n",
    "middle_char_pred = middle_char_classifier.predict(test_df.loc[:,['Latitude','Longitude']])"
   ]
  },
  {
   "cell_type": "markdown",
   "metadata": {},
   "source": [
    "## Zoning for public high schools"
   ]
  },
  {
   "cell_type": "code",
   "execution_count": 17,
   "metadata": {},
   "outputs": [],
   "source": [
    "# training dataset for public high schools\n",
    "high_pub = schools_harris.loc[\n",
    "    (schools_harris['School.Type']=='High')&(schools_harris['Charter.Trad']=='Traditional Public School'),:]"
   ]
  },
  {
   "cell_type": "code",
   "execution_count": 18,
   "metadata": {},
   "outputs": [
    {
     "data": {
      "text/plain": [
       "KNeighborsClassifier(algorithm='auto', leaf_size=30, metric='minkowski',\n",
       "                     metric_params=None, n_jobs=None, n_neighbors=1, p=2,\n",
       "                     weights='uniform')"
      ]
     },
     "execution_count": 18,
     "metadata": {},
     "output_type": "execute_result"
    }
   ],
   "source": [
    "# public high schools classifier\n",
    "high_pub_classifier = KNeighborsClassifier(n_neighbors=1)\n",
    "high_pub_classifier.fit(high_pub.loc[:,[\"latitude\",\"longitude\"]],high_pub[\"School.ID\"])"
   ]
  },
  {
   "cell_type": "code",
   "execution_count": 19,
   "metadata": {},
   "outputs": [],
   "source": [
    "# public high schools classification results\n",
    "high_pub_pred = high_pub_classifier.predict(test_df.loc[:,['Latitude','Longitude']])"
   ]
  },
  {
   "cell_type": "markdown",
   "metadata": {},
   "source": [
    "## Zoning for charter high schools"
   ]
  },
  {
   "cell_type": "code",
   "execution_count": 20,
   "metadata": {},
   "outputs": [],
   "source": [
    "# training dataset for charter high schools\n",
    "high_charter = schools_harris.loc[\n",
    "    (schools_harris['School.Type']=='High')&(schools_harris['Charter.Trad']=='Charter'),:]"
   ]
  },
  {
   "cell_type": "code",
   "execution_count": 21,
   "metadata": {},
   "outputs": [
    {
     "data": {
      "text/plain": [
       "KNeighborsClassifier(algorithm='auto', leaf_size=30, metric='minkowski',\n",
       "                     metric_params=None, n_jobs=None, n_neighbors=1, p=2,\n",
       "                     weights='uniform')"
      ]
     },
     "execution_count": 21,
     "metadata": {},
     "output_type": "execute_result"
    }
   ],
   "source": [
    "# charter high schools classifier\n",
    "high_char_classifier = KNeighborsClassifier(n_neighbors=1)\n",
    "high_char_classifier.fit(high_charter.loc[:,[\"latitude\",\"longitude\"]],high_charter[\"School.ID\"])"
   ]
  },
  {
   "cell_type": "code",
   "execution_count": 22,
   "metadata": {},
   "outputs": [],
   "source": [
    "# charter high schools classification results\n",
    "high_char_pred = high_char_classifier.predict(test_df.loc[:,['Latitude','Longitude']])"
   ]
  },
  {
   "cell_type": "markdown",
   "metadata": {},
   "source": [
    "## Adding classification and school ratings to main dataframe"
   ]
  },
  {
   "cell_type": "code",
   "execution_count": 23,
   "metadata": {},
   "outputs": [],
   "source": [
    "# add columns to the test dataset to host each classification, school name and rating\n",
    "test_df[\"Elementary Public School ID\"] = elem_pub_pred\n",
    "test_df[\"Elementary Public School Name\"] = \"\"\n",
    "test_df[\"Elementary Public School Rating\"] = \"\"\n",
    "test_df[\"Elementary Charter School ID\"] = elem_char_pred\n",
    "test_df[\"Elementary Charter School Name\"] = \"\"\n",
    "test_df[\"Elementary Charter School Rating\"] = \"\"\n",
    "test_df[\"Public Middle School ID\"] = middle_pub_pred\n",
    "test_df[\"Public Middle School Name\"] = \"\"\n",
    "test_df[\"Public Middle School Rating\"] = \"\"\n",
    "test_df[\"Charter Middle School ID\"] = middle_char_pred\n",
    "test_df[\"Charter Middle School Name\"] = \"\"\n",
    "test_df[\"Charter Middle School Rating\"] = \"\"\n",
    "test_df[\"Public High School ID\"] = high_pub_pred\n",
    "test_df[\"Public High School Name\"] = \"\"\n",
    "test_df[\"Public High School Rating\"] = \"\"\n",
    "test_df[\"Charter High School ID\"] = high_char_pred\n",
    "test_df[\"Charter High School Name\"] = \"\"\n",
    "test_df[\"Charter High School Rating\"] = \"\""
   ]
  },
  {
   "cell_type": "code",
   "execution_count": 24,
   "metadata": {},
   "outputs": [],
   "source": [
    "# create lists for school name and TEA grade\n",
    "school_id = schools_harris[\"School.ID\"].to_list()\n",
    "school_names = schools_harris[\"School.Name\"].to_list()\n",
    "school_ratings = schools_harris[\"School Rating\"].to_list()"
   ]
  },
  {
   "cell_type": "code",
   "execution_count": 25,
   "metadata": {},
   "outputs": [],
   "source": [
    "# loop through lists above to insert data in the main DataFrame\n",
    "for x in range(0,len(school_names)):\n",
    "    test_df.loc[test_df[\n",
    "    \"Elementary Public School ID\"]==school_id[x],\"Elementary Public School Name\"]=school_names[x]\n",
    "    test_df.loc[test_df[\n",
    "    \"Elementary Public School ID\"]==school_id[x],\"Elementary Public School Rating\"]=school_ratings[x]\n",
    "    \n",
    "    test_df.loc[test_df[\n",
    "    \"Elementary Charter School ID\"]==school_id[x],\"Elementary Charter School Name\"]=school_names[x]\n",
    "    test_df.loc[test_df[\n",
    "    \"Elementary Charter School ID\"]==school_id[x],\"Elementary Charter School Rating\"]=school_ratings[x]\n",
    "    \n",
    "    test_df.loc[test_df[\n",
    "    \"Public Middle School ID\"]==school_id[x],\"Public Middle School Name\"]=school_names[x]\n",
    "    test_df.loc[test_df[\n",
    "    \"Public Middle School ID\"]==school_id[x],\"Public Middle School Rating\"]=school_ratings[x]\n",
    "    \n",
    "    test_df.loc[test_df[\n",
    "    \"Charter Middle School ID\"]==school_id[x],\"Charter Middle School Name\"]=school_names[x]\n",
    "    test_df.loc[test_df[\n",
    "    \"Charter Middle School ID\"]==school_id[x],\"Charter Middle School Rating\"]=school_ratings[x]\n",
    "    \n",
    "    test_df.loc[test_df[\n",
    "    \"Public High School ID\"]==school_id[x],\"Public High School Name\"]=school_names[x]\n",
    "    test_df.loc[test_df[\n",
    "    \"Public High School ID\"]==school_id[x],\"Public High School Rating\"]=school_ratings[x]\n",
    "    \n",
    "    test_df.loc[test_df[\n",
    "    \"Charter High School ID\"]==school_id[x],\"Charter High School Name\"]=school_names[x]\n",
    "    test_df.loc[test_df[\n",
    "    \"Charter High School ID\"]==school_id[x],\"Charter High School Rating\"]=school_ratings[x]"
   ]
  },
  {
   "cell_type": "code",
   "execution_count": 26,
   "metadata": {},
   "outputs": [],
   "source": [
    "# calculate averate of all school ratings per residence\n",
    "test_df[\"Average School Rating\"] = test_df[[\"Elementary Public School Rating\",\"Elementary Charter School Rating\",\n",
    "    \"Public Middle School Rating\",\"Charter Middle School Rating\",\n",
    "    \"Public High School Rating\",\"Charter High School Rating\"]].mean(axis=1)"
   ]
  },
  {
   "cell_type": "code",
   "execution_count": 27,
   "metadata": {},
   "outputs": [
    {
     "data": {
      "text/html": [
       "<div>\n",
       "<style scoped>\n",
       "    .dataframe tbody tr th:only-of-type {\n",
       "        vertical-align: middle;\n",
       "    }\n",
       "\n",
       "    .dataframe tbody tr th {\n",
       "        vertical-align: top;\n",
       "    }\n",
       "\n",
       "    .dataframe thead th {\n",
       "        text-align: right;\n",
       "    }\n",
       "</style>\n",
       "<table border=\"1\" class=\"dataframe\">\n",
       "  <thead>\n",
       "    <tr style=\"text-align: right;\">\n",
       "      <th></th>\n",
       "      <th>Unnamed: 0</th>\n",
       "      <th>Address</th>\n",
       "      <th>Latitude</th>\n",
       "      <th>Longitude</th>\n",
       "      <th>Flood Description</th>\n",
       "      <th>Flood Zone</th>\n",
       "      <th>Flood Risk</th>\n",
       "      <th>SITE_ADDR_1</th>\n",
       "      <th>ACCOUNT</th>\n",
       "      <th>SITE_ADDR_3</th>\n",
       "      <th>...</th>\n",
       "      <th>Charter Middle School ID</th>\n",
       "      <th>Charter Middle School Name</th>\n",
       "      <th>Charter Middle School Rating</th>\n",
       "      <th>Public High School ID</th>\n",
       "      <th>Public High School Name</th>\n",
       "      <th>Public High School Rating</th>\n",
       "      <th>Charter High School ID</th>\n",
       "      <th>Charter High School Name</th>\n",
       "      <th>Charter High School Rating</th>\n",
       "      <th>Average School Rating</th>\n",
       "    </tr>\n",
       "  </thead>\n",
       "  <tbody>\n",
       "    <tr>\n",
       "      <th>15916</th>\n",
       "      <td>15916</td>\n",
       "      <td>8727 LINKTERRACE LN HOUSTON, Texas 77025</td>\n",
       "      <td>29.68772</td>\n",
       "      <td>-95.43602</td>\n",
       "      <td>NaN</td>\n",
       "      <td>AE</td>\n",
       "      <td>3</td>\n",
       "      <td>8727 LINKTERRACE LN</td>\n",
       "      <td>772010070005</td>\n",
       "      <td>77025</td>\n",
       "      <td>...</td>\n",
       "      <td>101846003</td>\n",
       "      <td>HARMONY SCHOOL OF INGENUITY - HOUSTON MIDDLE</td>\n",
       "      <td>95</td>\n",
       "      <td>101912002</td>\n",
       "      <td>BELLAIRE HIGH</td>\n",
       "      <td>85</td>\n",
       "      <td>101846003</td>\n",
       "      <td>HARMONY SCHOOL OF INGENUITY - HOUSTON MIDDLE</td>\n",
       "      <td>95</td>\n",
       "      <td>86.666667</td>\n",
       "    </tr>\n",
       "    <tr>\n",
       "      <th>18762</th>\n",
       "      <td>18762</td>\n",
       "      <td>9714 KAPRI LN HOUSTON, Texas 77025</td>\n",
       "      <td>29.67732</td>\n",
       "      <td>-95.43869</td>\n",
       "      <td>AREA OF MINIMAL FLOOD HAZARD</td>\n",
       "      <td>X</td>\n",
       "      <td>1</td>\n",
       "      <td>9714 KAPRI LN</td>\n",
       "      <td>1245380010003</td>\n",
       "      <td>77025</td>\n",
       "      <td>...</td>\n",
       "      <td>101846003</td>\n",
       "      <td>HARMONY SCHOOL OF INGENUITY - HOUSTON MIDDLE</td>\n",
       "      <td>95</td>\n",
       "      <td>101912002</td>\n",
       "      <td>BELLAIRE HIGH</td>\n",
       "      <td>85</td>\n",
       "      <td>101846003</td>\n",
       "      <td>HARMONY SCHOOL OF INGENUITY - HOUSTON MIDDLE</td>\n",
       "      <td>95</td>\n",
       "      <td>85.000000</td>\n",
       "    </tr>\n",
       "    <tr>\n",
       "      <th>15605</th>\n",
       "      <td>15605</td>\n",
       "      <td>10305 BASSOON DR HOUSTON, Texas 77025</td>\n",
       "      <td>29.66938</td>\n",
       "      <td>-95.44568</td>\n",
       "      <td>AREA OF MINIMAL FLOOD HAZARD</td>\n",
       "      <td>X</td>\n",
       "      <td>1</td>\n",
       "      <td>10305 BASSOON DR</td>\n",
       "      <td>771740140242</td>\n",
       "      <td>77025</td>\n",
       "      <td>...</td>\n",
       "      <td>101846003</td>\n",
       "      <td>HARMONY SCHOOL OF INGENUITY - HOUSTON MIDDLE</td>\n",
       "      <td>95</td>\n",
       "      <td>101912002</td>\n",
       "      <td>BELLAIRE HIGH</td>\n",
       "      <td>85</td>\n",
       "      <td>101846003</td>\n",
       "      <td>HARMONY SCHOOL OF INGENUITY - HOUSTON MIDDLE</td>\n",
       "      <td>95</td>\n",
       "      <td>85.000000</td>\n",
       "    </tr>\n",
       "    <tr>\n",
       "      <th>11109</th>\n",
       "      <td>11109</td>\n",
       "      <td>3828 DEL MONTE DR HOUSTON, Texas 77019</td>\n",
       "      <td>29.74978</td>\n",
       "      <td>-95.44050</td>\n",
       "      <td>AREA OF MINIMAL FLOOD HAZARD</td>\n",
       "      <td>X</td>\n",
       "      <td>1</td>\n",
       "      <td>3828 DEL MONTE DR</td>\n",
       "      <td>601640840033</td>\n",
       "      <td>77019</td>\n",
       "      <td>...</td>\n",
       "      <td>101912057</td>\n",
       "      <td>LANIER MIDDLE</td>\n",
       "      <td>95</td>\n",
       "      <td>101912008</td>\n",
       "      <td>LAMAR HIGH</td>\n",
       "      <td>85</td>\n",
       "      <td>101912323</td>\n",
       "      <td>CHALLENGE EARLY COLLEGE HIGH</td>\n",
       "      <td>95</td>\n",
       "      <td>91.666667</td>\n",
       "    </tr>\n",
       "  </tbody>\n",
       "</table>\n",
       "<p>4 rows × 47 columns</p>\n",
       "</div>"
      ],
      "text/plain": [
       "       Unnamed: 0                                   Address  Latitude  \\\n",
       "15916       15916  8727 LINKTERRACE LN HOUSTON, Texas 77025  29.68772   \n",
       "18762       18762        9714 KAPRI LN HOUSTON, Texas 77025  29.67732   \n",
       "15605       15605     10305 BASSOON DR HOUSTON, Texas 77025  29.66938   \n",
       "11109       11109    3828 DEL MONTE DR HOUSTON, Texas 77019  29.74978   \n",
       "\n",
       "       Longitude             Flood Description Flood Zone  Flood Risk  \\\n",
       "15916  -95.43602                           NaN         AE           3   \n",
       "18762  -95.43869  AREA OF MINIMAL FLOOD HAZARD          X           1   \n",
       "15605  -95.44568  AREA OF MINIMAL FLOOD HAZARD          X           1   \n",
       "11109  -95.44050  AREA OF MINIMAL FLOOD HAZARD          X           1   \n",
       "\n",
       "               SITE_ADDR_1        ACCOUNT  SITE_ADDR_3  ...  \\\n",
       "15916  8727 LINKTERRACE LN   772010070005        77025  ...   \n",
       "18762        9714 KAPRI LN  1245380010003        77025  ...   \n",
       "15605     10305 BASSOON DR   771740140242        77025  ...   \n",
       "11109    3828 DEL MONTE DR   601640840033        77019  ...   \n",
       "\n",
       "       Charter Middle School ID                    Charter Middle School Name  \\\n",
       "15916                 101846003  HARMONY SCHOOL OF INGENUITY - HOUSTON MIDDLE   \n",
       "18762                 101846003  HARMONY SCHOOL OF INGENUITY - HOUSTON MIDDLE   \n",
       "15605                 101846003  HARMONY SCHOOL OF INGENUITY - HOUSTON MIDDLE   \n",
       "11109                 101912057                                 LANIER MIDDLE   \n",
       "\n",
       "       Charter Middle School Rating  Public High School ID  \\\n",
       "15916                            95              101912002   \n",
       "18762                            95              101912002   \n",
       "15605                            95              101912002   \n",
       "11109                            95              101912008   \n",
       "\n",
       "       Public High School Name  Public High School Rating  \\\n",
       "15916            BELLAIRE HIGH                         85   \n",
       "18762            BELLAIRE HIGH                         85   \n",
       "15605            BELLAIRE HIGH                         85   \n",
       "11109               LAMAR HIGH                         85   \n",
       "\n",
       "       Charter High School ID                      Charter High School Name  \\\n",
       "15916               101846003  HARMONY SCHOOL OF INGENUITY - HOUSTON MIDDLE   \n",
       "18762               101846003  HARMONY SCHOOL OF INGENUITY - HOUSTON MIDDLE   \n",
       "15605               101846003  HARMONY SCHOOL OF INGENUITY - HOUSTON MIDDLE   \n",
       "11109               101912323                  CHALLENGE EARLY COLLEGE HIGH   \n",
       "\n",
       "       Charter High School Rating  Average School Rating  \n",
       "15916                          95              86.666667  \n",
       "18762                          95              85.000000  \n",
       "15605                          95              85.000000  \n",
       "11109                          95              91.666667  \n",
       "\n",
       "[4 rows x 47 columns]"
      ]
     },
     "execution_count": 27,
     "metadata": {},
     "output_type": "execute_result"
    }
   ],
   "source": [
    "test_df.sample(4)"
   ]
  },
  {
   "cell_type": "code",
   "execution_count": 28,
   "metadata": {},
   "outputs": [],
   "source": [
    "test_df.to_csv(\"Output/combined_flood_crime_and_school_data.csv\")"
   ]
  },
  {
   "cell_type": "code",
   "execution_count": 29,
   "metadata": {},
   "outputs": [
    {
     "data": {
      "text/html": [
       "<div>\n",
       "<style scoped>\n",
       "    .dataframe tbody tr th:only-of-type {\n",
       "        vertical-align: middle;\n",
       "    }\n",
       "\n",
       "    .dataframe tbody tr th {\n",
       "        vertical-align: top;\n",
       "    }\n",
       "\n",
       "    .dataframe thead th {\n",
       "        text-align: right;\n",
       "    }\n",
       "</style>\n",
       "<table border=\"1\" class=\"dataframe\">\n",
       "  <thead>\n",
       "    <tr style=\"text-align: right;\">\n",
       "      <th></th>\n",
       "      <th>Address</th>\n",
       "      <th>Elementary Public School Name</th>\n",
       "      <th>Elementary Charter School Name</th>\n",
       "      <th>Public Middle School Name</th>\n",
       "      <th>Charter Middle School Name</th>\n",
       "      <th>Public High School Name</th>\n",
       "      <th>Charter High School Name</th>\n",
       "    </tr>\n",
       "  </thead>\n",
       "  <tbody>\n",
       "    <tr>\n",
       "      <th>21983</th>\n",
       "      <td>2416 UNDERWOOD ST HOUSTON, Texas 77030</td>\n",
       "      <td>RICE SCHOOL /LA ESCUELA RICE MIDDLE</td>\n",
       "      <td>HARMONY SCHOOL OF FINE ARTS AND TECHNOLOGY - H...</td>\n",
       "      <td>RICE SCHOOL /LA ESCUELA RICE MIDDLE</td>\n",
       "      <td>HARMONY SCHOOL OF FINE ARTS AND TECHNOLOGY - H...</td>\n",
       "      <td>DEBAKEY HIGH FOR HEALTH PROF</td>\n",
       "      <td>HARMONY SCHOOL OF INGENUITY - HOUSTON MIDDLE</td>\n",
       "    </tr>\n",
       "    <tr>\n",
       "      <th>21514</th>\n",
       "      <td>3330 LAS PALMAS ST 8 HOUSTON, Texas 77027</td>\n",
       "      <td>WEST UNIVERSITY ELEMENTARY</td>\n",
       "      <td>AMIGOS POR VIDA-FRIENDS FOR LIFE CHARTER S MIDDLE</td>\n",
       "      <td>PIN OAK MIDDLE</td>\n",
       "      <td>AMIGOS POR VIDA-FRIENDS FOR LIFE CHARTER S MIDDLE</td>\n",
       "      <td>LAMAR HIGH</td>\n",
       "      <td>CHALLENGE EARLY COLLEGE HIGH</td>\n",
       "    </tr>\n",
       "    <tr>\n",
       "      <th>8431</th>\n",
       "      <td>1105 ROBIN ST HOUSTON, Texas 77019</td>\n",
       "      <td>GREGORY-LINCOLN EDUCATIONAL CENTER MIDDLE</td>\n",
       "      <td>YOUNG SCHOLARS ACADEMY FOR EXCELLENCE MIDDLE</td>\n",
       "      <td>GREGORY-LINCOLN EDUCATIONAL CENTER MIDDLE</td>\n",
       "      <td>YOUNG SCHOLARS ACADEMY FOR EXCELLENCE MIDDLE</td>\n",
       "      <td>CARNEGIE VANGUARD HIGH</td>\n",
       "      <td>HOUSTON ACADEMY FOR INTERNATIONAL STUDIES HIGH</td>\n",
       "    </tr>\n",
       "    <tr>\n",
       "      <th>14941</th>\n",
       "      <td>3518 BLUE BONNET BLVD HOUSTON, Texas 77025</td>\n",
       "      <td>TWAIN ELEMENTARY</td>\n",
       "      <td>HARMONY SCHOOL OF FINE ARTS AND TECHNOLOGY - H...</td>\n",
       "      <td>PERSHING MIDDLE</td>\n",
       "      <td>HARMONY SCHOOL OF INGENUITY - HOUSTON MIDDLE</td>\n",
       "      <td>DEBAKEY HIGH FOR HEALTH PROF</td>\n",
       "      <td>CHALLENGE EARLY COLLEGE HIGH</td>\n",
       "    </tr>\n",
       "    <tr>\n",
       "      <th>21519</th>\n",
       "      <td>3330 LAS PALMAS ST 13 HOUSTON, Texas 77027</td>\n",
       "      <td>WEST UNIVERSITY ELEMENTARY</td>\n",
       "      <td>AMIGOS POR VIDA-FRIENDS FOR LIFE CHARTER S MIDDLE</td>\n",
       "      <td>PIN OAK MIDDLE</td>\n",
       "      <td>AMIGOS POR VIDA-FRIENDS FOR LIFE CHARTER S MIDDLE</td>\n",
       "      <td>LAMAR HIGH</td>\n",
       "      <td>CHALLENGE EARLY COLLEGE HIGH</td>\n",
       "    </tr>\n",
       "    <tr>\n",
       "      <th>13185</th>\n",
       "      <td>1214 W DALLAS ST HOUSTON, Texas 77019</td>\n",
       "      <td>GREGORY-LINCOLN EDUCATIONAL CENTER MIDDLE</td>\n",
       "      <td>YOUNG SCHOLARS ACADEMY FOR EXCELLENCE MIDDLE</td>\n",
       "      <td>GREGORY-LINCOLN EDUCATIONAL CENTER MIDDLE</td>\n",
       "      <td>YOUNG SCHOLARS ACADEMY FOR EXCELLENCE MIDDLE</td>\n",
       "      <td>CARNEGIE VANGUARD HIGH</td>\n",
       "      <td>HOUSTON ACADEMY FOR INTERNATIONAL STUDIES HIGH</td>\n",
       "    </tr>\n",
       "    <tr>\n",
       "      <th>15961</th>\n",
       "      <td>3830 LINKWOOD DR HOUSTON, Texas 77025</td>\n",
       "      <td>LONGFELLOW ELEMENTARY</td>\n",
       "      <td>HARMONY SCHOOL OF FINE ARTS AND TECHNOLOGY - H...</td>\n",
       "      <td>PERSHING MIDDLE</td>\n",
       "      <td>HARMONY SCHOOL OF INGENUITY - HOUSTON MIDDLE</td>\n",
       "      <td>BELLAIRE HIGH</td>\n",
       "      <td>HARMONY SCHOOL OF INGENUITY - HOUSTON MIDDLE</td>\n",
       "    </tr>\n",
       "    <tr>\n",
       "      <th>3641</th>\n",
       "      <td>3721 DARCUS ST HOUSTON, Texas 77005</td>\n",
       "      <td>WEST UNIVERSITY ELEMENTARY</td>\n",
       "      <td>HARMONY SCHOOL OF FINE ARTS AND TECHNOLOGY - H...</td>\n",
       "      <td>PERSHING MIDDLE</td>\n",
       "      <td>HARMONY SCHOOL OF INGENUITY - HOUSTON MIDDLE</td>\n",
       "      <td>LAMAR HIGH</td>\n",
       "      <td>CHALLENGE EARLY COLLEGE HIGH</td>\n",
       "    </tr>\n",
       "    <tr>\n",
       "      <th>25286</th>\n",
       "      <td>2901 FERNDALE ST HOUSTON, Texas 77098</td>\n",
       "      <td>RIVER OAKS ELEMENTARY</td>\n",
       "      <td>YOUNG SCHOLARS ACADEMY FOR EXCELLENCE MIDDLE</td>\n",
       "      <td>WILSON MONTESSORI MIDDLE</td>\n",
       "      <td>LANIER MIDDLE</td>\n",
       "      <td>LAMAR HIGH</td>\n",
       "      <td>CHALLENGE EARLY COLLEGE HIGH</td>\n",
       "    </tr>\n",
       "    <tr>\n",
       "      <th>16747</th>\n",
       "      <td>2811 CONWAY ST HOUSTON, Texas 77025</td>\n",
       "      <td>RICE SCHOOL /LA ESCUELA RICE MIDDLE</td>\n",
       "      <td>HARMONY SCHOOL OF FINE ARTS AND TECHNOLOGY - H...</td>\n",
       "      <td>RICE SCHOOL /LA ESCUELA RICE MIDDLE</td>\n",
       "      <td>HARMONY SCHOOL OF FINE ARTS AND TECHNOLOGY - H...</td>\n",
       "      <td>DEBAKEY HIGH FOR HEALTH PROF</td>\n",
       "      <td>HARMONY SCHOOL OF INGENUITY - HOUSTON MIDDLE</td>\n",
       "    </tr>\n",
       "  </tbody>\n",
       "</table>\n",
       "</div>"
      ],
      "text/plain": [
       "                                          Address  \\\n",
       "21983      2416 UNDERWOOD ST HOUSTON, Texas 77030   \n",
       "21514   3330 LAS PALMAS ST 8 HOUSTON, Texas 77027   \n",
       "8431           1105 ROBIN ST HOUSTON, Texas 77019   \n",
       "14941  3518 BLUE BONNET BLVD HOUSTON, Texas 77025   \n",
       "21519  3330 LAS PALMAS ST 13 HOUSTON, Texas 77027   \n",
       "13185       1214 W DALLAS ST HOUSTON, Texas 77019   \n",
       "15961       3830 LINKWOOD DR HOUSTON, Texas 77025   \n",
       "3641          3721 DARCUS ST HOUSTON, Texas 77005   \n",
       "25286       2901 FERNDALE ST HOUSTON, Texas 77098   \n",
       "16747         2811 CONWAY ST HOUSTON, Texas 77025   \n",
       "\n",
       "                   Elementary Public School Name  \\\n",
       "21983        RICE SCHOOL /LA ESCUELA RICE MIDDLE   \n",
       "21514                 WEST UNIVERSITY ELEMENTARY   \n",
       "8431   GREGORY-LINCOLN EDUCATIONAL CENTER MIDDLE   \n",
       "14941                           TWAIN ELEMENTARY   \n",
       "21519                 WEST UNIVERSITY ELEMENTARY   \n",
       "13185  GREGORY-LINCOLN EDUCATIONAL CENTER MIDDLE   \n",
       "15961                      LONGFELLOW ELEMENTARY   \n",
       "3641                  WEST UNIVERSITY ELEMENTARY   \n",
       "25286                      RIVER OAKS ELEMENTARY   \n",
       "16747        RICE SCHOOL /LA ESCUELA RICE MIDDLE   \n",
       "\n",
       "                          Elementary Charter School Name  \\\n",
       "21983  HARMONY SCHOOL OF FINE ARTS AND TECHNOLOGY - H...   \n",
       "21514  AMIGOS POR VIDA-FRIENDS FOR LIFE CHARTER S MIDDLE   \n",
       "8431        YOUNG SCHOLARS ACADEMY FOR EXCELLENCE MIDDLE   \n",
       "14941  HARMONY SCHOOL OF FINE ARTS AND TECHNOLOGY - H...   \n",
       "21519  AMIGOS POR VIDA-FRIENDS FOR LIFE CHARTER S MIDDLE   \n",
       "13185       YOUNG SCHOLARS ACADEMY FOR EXCELLENCE MIDDLE   \n",
       "15961  HARMONY SCHOOL OF FINE ARTS AND TECHNOLOGY - H...   \n",
       "3641   HARMONY SCHOOL OF FINE ARTS AND TECHNOLOGY - H...   \n",
       "25286       YOUNG SCHOLARS ACADEMY FOR EXCELLENCE MIDDLE   \n",
       "16747  HARMONY SCHOOL OF FINE ARTS AND TECHNOLOGY - H...   \n",
       "\n",
       "                       Public Middle School Name  \\\n",
       "21983        RICE SCHOOL /LA ESCUELA RICE MIDDLE   \n",
       "21514                             PIN OAK MIDDLE   \n",
       "8431   GREGORY-LINCOLN EDUCATIONAL CENTER MIDDLE   \n",
       "14941                            PERSHING MIDDLE   \n",
       "21519                             PIN OAK MIDDLE   \n",
       "13185  GREGORY-LINCOLN EDUCATIONAL CENTER MIDDLE   \n",
       "15961                            PERSHING MIDDLE   \n",
       "3641                             PERSHING MIDDLE   \n",
       "25286                   WILSON MONTESSORI MIDDLE   \n",
       "16747        RICE SCHOOL /LA ESCUELA RICE MIDDLE   \n",
       "\n",
       "                              Charter Middle School Name  \\\n",
       "21983  HARMONY SCHOOL OF FINE ARTS AND TECHNOLOGY - H...   \n",
       "21514  AMIGOS POR VIDA-FRIENDS FOR LIFE CHARTER S MIDDLE   \n",
       "8431        YOUNG SCHOLARS ACADEMY FOR EXCELLENCE MIDDLE   \n",
       "14941       HARMONY SCHOOL OF INGENUITY - HOUSTON MIDDLE   \n",
       "21519  AMIGOS POR VIDA-FRIENDS FOR LIFE CHARTER S MIDDLE   \n",
       "13185       YOUNG SCHOLARS ACADEMY FOR EXCELLENCE MIDDLE   \n",
       "15961       HARMONY SCHOOL OF INGENUITY - HOUSTON MIDDLE   \n",
       "3641        HARMONY SCHOOL OF INGENUITY - HOUSTON MIDDLE   \n",
       "25286                                      LANIER MIDDLE   \n",
       "16747  HARMONY SCHOOL OF FINE ARTS AND TECHNOLOGY - H...   \n",
       "\n",
       "            Public High School Name  \\\n",
       "21983  DEBAKEY HIGH FOR HEALTH PROF   \n",
       "21514                    LAMAR HIGH   \n",
       "8431         CARNEGIE VANGUARD HIGH   \n",
       "14941  DEBAKEY HIGH FOR HEALTH PROF   \n",
       "21519                    LAMAR HIGH   \n",
       "13185        CARNEGIE VANGUARD HIGH   \n",
       "15961                 BELLAIRE HIGH   \n",
       "3641                     LAMAR HIGH   \n",
       "25286                    LAMAR HIGH   \n",
       "16747  DEBAKEY HIGH FOR HEALTH PROF   \n",
       "\n",
       "                             Charter High School Name  \n",
       "21983    HARMONY SCHOOL OF INGENUITY - HOUSTON MIDDLE  \n",
       "21514                    CHALLENGE EARLY COLLEGE HIGH  \n",
       "8431   HOUSTON ACADEMY FOR INTERNATIONAL STUDIES HIGH  \n",
       "14941                    CHALLENGE EARLY COLLEGE HIGH  \n",
       "21519                    CHALLENGE EARLY COLLEGE HIGH  \n",
       "13185  HOUSTON ACADEMY FOR INTERNATIONAL STUDIES HIGH  \n",
       "15961    HARMONY SCHOOL OF INGENUITY - HOUSTON MIDDLE  \n",
       "3641                     CHALLENGE EARLY COLLEGE HIGH  \n",
       "25286                    CHALLENGE EARLY COLLEGE HIGH  \n",
       "16747    HARMONY SCHOOL OF INGENUITY - HOUSTON MIDDLE  "
      ]
     },
     "execution_count": 29,
     "metadata": {},
     "output_type": "execute_result"
    }
   ],
   "source": [
    "qc = test_df[[\"Address\",\"Elementary Public School Name\",\"Elementary Charter School Name\",\"Public Middle School Name\",\n",
    "                       \"Charter Middle School Name\",\"Public High School Name\",\"Charter High School Name\"]]\n",
    "qc.sample(10)"
   ]
  },
  {
   "cell_type": "code",
   "execution_count": null,
   "metadata": {},
   "outputs": [],
   "source": []
  }
 ],
 "metadata": {
  "kernelspec": {
   "display_name": "Python [conda env:PythonData] *",
   "language": "python",
   "name": "conda-env-PythonData-py"
  },
  "language_info": {
   "codemirror_mode": {
    "name": "ipython",
    "version": 3
   },
   "file_extension": ".py",
   "mimetype": "text/x-python",
   "name": "python",
   "nbconvert_exporter": "python",
   "pygments_lexer": "ipython3",
   "version": "3.8.3"
  }
 },
 "nbformat": 4,
 "nbformat_minor": 4
}
