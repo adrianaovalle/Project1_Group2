{
 "cells": [
  {
   "cell_type": "markdown",
   "metadata": {},
   "source": [
    "# Classification of Flood&Crime Dataset  Using KNN\n",
    "## Training dataset = School Ratings Data"
   ]
  },
  {
   "cell_type": "code",
   "execution_count": 1,
   "metadata": {},
   "outputs": [],
   "source": [
    "import pandas as pd\n",
    "import numpy as np\n",
    "import matplotlib.pyplot as plt\n",
    "from sklearn.neighbors import KNeighborsClassifier"
   ]
  },
  {
   "cell_type": "code",
   "execution_count": 2,
   "metadata": {},
   "outputs": [
    {
     "name": "stdout",
     "output_type": "stream",
     "text": [
      "<class 'pandas.core.frame.DataFrame'>\n",
      "RangeIndex: 972 entries, 0 to 971\n",
      "Data columns (total 52 columns):\n",
      " #   Column                    Non-Null Count  Dtype  \n",
      "---  ------                    --------------  -----  \n",
      " 0   Unnamed: 0                972 non-null    int64  \n",
      " 1   School.ID                 972 non-null    int64  \n",
      " 2   School.Name               972 non-null    object \n",
      " 3   Street.Address            972 non-null    object \n",
      " 4   CITY                      972 non-null    object \n",
      " 5   ZIP                       972 non-null    float64\n",
      " 6   County                    972 non-null    object \n",
      " 7   District.Name             972 non-null    object \n",
      " 8   School.Type               972 non-null    object \n",
      " 9   Charter.Trad              972 non-null    object \n",
      " 10  Grade.Current             972 non-null    object \n",
      " 11  TEA Grade                 972 non-null    object \n",
      " 12  GoldRibbon                68 non-null     float64\n",
      " 13  PEG                       972 non-null    object \n",
      " 14  County_Ranking            972 non-null    object \n",
      " 15  Asian.pct                 972 non-null    float64\n",
      " 16  Black.pct                 972 non-null    float64\n",
      " 17  Hispanic.pct              972 non-null    float64\n",
      " 18  Other_race.pct            972 non-null    float64\n",
      " 19  White.pct                 972 non-null    float64\n",
      " 20  Total.Enrollment          972 non-null    float64\n",
      " 21  Special.Ed                972 non-null    float64\n",
      " 22  Teacher.Beginner.pct      945 non-null    float64\n",
      " 23  Teacher.1to5.pct          945 non-null    float64\n",
      " 24  Teacher.6more.pct         945 non-null    float64\n",
      " 25  Econ.Dis                  972 non-null    float64\n",
      " 26  ELL.pct                   972 non-null    float64\n",
      " 27  Student.Mobility          972 non-null    float64\n",
      " 28  Reading.Current           972 non-null    float64\n",
      " 29  Reading.District          972 non-null    float64\n",
      " 30  Reading.County            972 non-null    float64\n",
      " 31  Reading.Compare.District  972 non-null    object \n",
      " 32  Reading.Compare.County    972 non-null    object \n",
      " 33  Math.Current              972 non-null    float64\n",
      " 34  Math.District             972 non-null    float64\n",
      " 35  Math.County               972 non-null    float64\n",
      " 36  Math.Compare.District     972 non-null    object \n",
      " 37  Math.Compare.County       972 non-null    object \n",
      " 38  Reading.Current-1         915 non-null    float64\n",
      " 39  Reading.Current-2         889 non-null    float64\n",
      " 40  Reading.Change            915 non-null    object \n",
      " 41  Math.Current-1            915 non-null    float64\n",
      " 42  Math.Current-2            889 non-null    float64\n",
      " 43  Math.Change               915 non-null    object \n",
      " 44  Student.Growth.Reading    972 non-null    object \n",
      " 45  Student.Growth.Math       972 non-null    object \n",
      " 46  School.Program            331 non-null    object \n",
      " 47  Community.Resources       331 non-null    object \n",
      " 48  longitude                 972 non-null    float64\n",
      " 49  latitude                  972 non-null    float64\n",
      " 50  Student.Teacher.Ratio     945 non-null    float64\n",
      " 51  Grade.Range               972 non-null    object \n",
      "dtypes: float64(28), int64(2), object(22)\n",
      "memory usage: 395.0+ KB\n"
     ]
    }
   ],
   "source": [
    "# read school data file and make into a DataFrame\n",
    "schools_file = pd.read_csv('Resources/Schools_Ratings_Harris_Co.csv')\n",
    "schools_harris = pd.DataFrame(schools_file)\n",
    "schools_harris.info()"
   ]
  },
  {
   "cell_type": "code",
   "execution_count": 3,
   "metadata": {},
   "outputs": [],
   "source": [
    "# convert TEA grades to numbers, A=95, B=85, C=75, D=65, F=55\n",
    "schools_harris[\"School Rating\"] = \"\"\n",
    "schools_harris.loc[schools_harris[\"TEA Grade\"]==\"A\", \"School Rating\"]=95\n",
    "schools_harris.loc[schools_harris[\"TEA Grade\"]==\"B\", \"School Rating\"]=85\n",
    "schools_harris.loc[schools_harris[\"TEA Grade\"]==\"C\", \"School Rating\"]=75\n",
    "schools_harris.loc[schools_harris[\"TEA Grade\"]==\"D\", \"School Rating\"]=65\n",
    "schools_harris.loc[schools_harris[\"TEA Grade\"]==\"F\", \"School Rating\"]=55"
   ]
  },
  {
   "cell_type": "code",
   "execution_count": 4,
   "metadata": {},
   "outputs": [
    {
     "name": "stdout",
     "output_type": "stream",
     "text": [
      "<class 'pandas.core.frame.DataFrame'>\n",
      "RangeIndex: 26406 entries, 0 to 26405\n",
      "Data columns (total 29 columns):\n",
      " #   Column                 Non-Null Count  Dtype  \n",
      "---  ------                 --------------  -----  \n",
      " 0   Unnamed: 0             26406 non-null  int64  \n",
      " 1   Address                26406 non-null  object \n",
      " 2   Latitude               26406 non-null  float64\n",
      " 3   Longitude              26406 non-null  float64\n",
      " 4   Flood Description      21794 non-null  object \n",
      " 5   Flood Zone             26406 non-null  object \n",
      " 6   Flood Risk             26406 non-null  int64  \n",
      " 7   SITE_ADDR_1            26406 non-null  object \n",
      " 8   ACCOUNT                26406 non-null  int64  \n",
      " 9   TAX_YEAR               26406 non-null  int64  \n",
      " 10  SITE_ADDR_2            26406 non-null  object \n",
      " 11  SITE_ADDR_3            26406 non-null  int64  \n",
      " 12  STATE_CLASS            26406 non-null  object \n",
      " 13  SCHOOL_DIST            26406 non-null  int64  \n",
      " 14  NEIGHBORHOOD_CODE      26406 non-null  float64\n",
      " 15  NEIGHBORHOOD_GROUP     26406 non-null  int64  \n",
      " 16  MARKET_AREA_1_DSCR     26406 non-null  object \n",
      " 17  MARKET_AREA_2_DSCR     26406 non-null  object \n",
      " 18  TOTAL_BUILDING_AREA    26406 non-null  int64  \n",
      " 19  TOTAL_LAND_AREA        26406 non-null  int64  \n",
      " 20  ACREAGE                26406 non-null  float64\n",
      " 21  LAND_VALUE             26405 non-null  float64\n",
      " 22  ASSESSED_VALUE         26405 non-null  float64\n",
      " 23  TOTAL_APPRAISED_VALUE  26405 non-null  float64\n",
      " 24  TOTAL_MARKET_VALUE     26405 non-null  float64\n",
      " 25  LAST_INSPECTED_DATE    26399 non-null  object \n",
      " 26  NEW_OWNER_DATE         26406 non-null  object \n",
      " 27  Offense Count          26406 non-null  int64  \n",
      " 28  crime_rank             26406 non-null  float64\n",
      "dtypes: float64(9), int64(10), object(10)\n",
      "memory usage: 5.8+ MB\n"
     ]
    }
   ],
   "source": [
    "# read file with residential addresses and make into a DataFrame\n",
    "res_file = pd.read_csv('Resources/flood_crime_hcad_V2.csv')\n",
    "test_df = pd.DataFrame(res_file)\n",
    "test_df.info()"
   ]
  },
  {
   "cell_type": "markdown",
   "metadata": {},
   "source": [
    "## Zoning for elementary public schools"
   ]
  },
  {
   "cell_type": "code",
   "execution_count": 5,
   "metadata": {},
   "outputs": [],
   "source": [
    "# training dataset for elementary public schools\n",
    "elem_pub = schools_harris.loc[\n",
    "    (schools_harris['School.Type']=='Elementary')&(schools_harris['Charter.Trad']=='Traditional Public School'),:]"
   ]
  },
  {
   "cell_type": "code",
   "execution_count": 6,
   "metadata": {},
   "outputs": [
    {
     "data": {
      "text/plain": [
       "KNeighborsClassifier(algorithm='auto', leaf_size=30, metric='minkowski',\n",
       "                     metric_params=None, n_jobs=None, n_neighbors=1, p=2,\n",
       "                     weights='uniform')"
      ]
     },
     "execution_count": 6,
     "metadata": {},
     "output_type": "execute_result"
    }
   ],
   "source": [
    "# elementary public schools classifier\n",
    "elem_pub_classifier = KNeighborsClassifier(n_neighbors=1)\n",
    "elem_pub_classifier.fit(elem_pub.loc[:,[\"latitude\",\"longitude\"]],elem_pub[\"School.ID\"])"
   ]
  },
  {
   "cell_type": "code",
   "execution_count": 7,
   "metadata": {},
   "outputs": [],
   "source": [
    "# elementary public schools classification results\n",
    "elem_pub_pred = elem_pub_classifier.predict(test_df.loc[:,['Latitude','Longitude']])"
   ]
  },
  {
   "cell_type": "markdown",
   "metadata": {},
   "source": [
    "## Zoning for elementary charter schools"
   ]
  },
  {
   "cell_type": "code",
   "execution_count": 8,
   "metadata": {},
   "outputs": [],
   "source": [
    "# training dataset for elementary charter schools\n",
    "elem_charter = schools_harris.loc[\n",
    "    (schools_harris['School.Type']=='Elementary')&(schools_harris['Charter.Trad']=='Charter'),:]"
   ]
  },
  {
   "cell_type": "code",
   "execution_count": 9,
   "metadata": {},
   "outputs": [
    {
     "data": {
      "text/plain": [
       "KNeighborsClassifier(algorithm='auto', leaf_size=30, metric='minkowski',\n",
       "                     metric_params=None, n_jobs=None, n_neighbors=1, p=2,\n",
       "                     weights='uniform')"
      ]
     },
     "execution_count": 9,
     "metadata": {},
     "output_type": "execute_result"
    }
   ],
   "source": [
    "# elementary charter schools classifier\n",
    "elem_char_classifier = KNeighborsClassifier(n_neighbors=1)\n",
    "elem_char_classifier.fit(elem_charter.loc[:,[\"latitude\",\"longitude\"]],elem_charter[\"School.ID\"])"
   ]
  },
  {
   "cell_type": "code",
   "execution_count": 10,
   "metadata": {},
   "outputs": [],
   "source": [
    "# elementary charter schools classification results\n",
    "elem_char_pred = elem_char_classifier.predict(test_df.loc[:,['Latitude','Longitude']])"
   ]
  },
  {
   "cell_type": "markdown",
   "metadata": {},
   "source": [
    "## Zoning for public middle schools"
   ]
  },
  {
   "cell_type": "code",
   "execution_count": 11,
   "metadata": {},
   "outputs": [],
   "source": [
    "# training dataset for public middle schools\n",
    "middle_pub = schools_harris.loc[\n",
    "    (schools_harris['School.Type']=='Middle')&(schools_harris['Charter.Trad']=='Traditional Public School'),:]"
   ]
  },
  {
   "cell_type": "code",
   "execution_count": 12,
   "metadata": {},
   "outputs": [
    {
     "data": {
      "text/plain": [
       "KNeighborsClassifier(algorithm='auto', leaf_size=30, metric='minkowski',\n",
       "                     metric_params=None, n_jobs=None, n_neighbors=1, p=2,\n",
       "                     weights='uniform')"
      ]
     },
     "execution_count": 12,
     "metadata": {},
     "output_type": "execute_result"
    }
   ],
   "source": [
    "# public middle schools classifier\n",
    "middle_pub_classifier = KNeighborsClassifier(n_neighbors=1)\n",
    "middle_pub_classifier.fit(middle_pub.loc[:,[\"latitude\",\"longitude\"]],middle_pub[\"School.ID\"])"
   ]
  },
  {
   "cell_type": "code",
   "execution_count": 13,
   "metadata": {},
   "outputs": [],
   "source": [
    "# public middle schools classification results\n",
    "middle_pub_pred = middle_pub_classifier.predict(test_df.loc[:,['Latitude','Longitude']])"
   ]
  },
  {
   "cell_type": "markdown",
   "metadata": {},
   "source": [
    "## Zoning for charter middle schools"
   ]
  },
  {
   "cell_type": "code",
   "execution_count": 14,
   "metadata": {},
   "outputs": [],
   "source": [
    "# training dataset for charter middle schools\n",
    "middle_charter = schools_harris.loc[\n",
    "    (schools_harris['School.Type']=='Middle')&(schools_harris['Charter.Trad']=='Charter'),:]"
   ]
  },
  {
   "cell_type": "code",
   "execution_count": 15,
   "metadata": {},
   "outputs": [
    {
     "data": {
      "text/plain": [
       "KNeighborsClassifier(algorithm='auto', leaf_size=30, metric='minkowski',\n",
       "                     metric_params=None, n_jobs=None, n_neighbors=1, p=2,\n",
       "                     weights='uniform')"
      ]
     },
     "execution_count": 15,
     "metadata": {},
     "output_type": "execute_result"
    }
   ],
   "source": [
    "# charter middle schools classifier\n",
    "middle_char_classifier = KNeighborsClassifier(n_neighbors=1)\n",
    "middle_char_classifier.fit(middle_charter.loc[:,[\"latitude\",\"longitude\"]],middle_charter[\"School.ID\"])"
   ]
  },
  {
   "cell_type": "code",
   "execution_count": 16,
   "metadata": {},
   "outputs": [],
   "source": [
    "# charter middle schools classification results\n",
    "middle_char_pred = middle_char_classifier.predict(test_df.loc[:,['Latitude','Longitude']])"
   ]
  },
  {
   "cell_type": "markdown",
   "metadata": {},
   "source": [
    "## Zoning for public high schools"
   ]
  },
  {
   "cell_type": "code",
   "execution_count": 17,
   "metadata": {},
   "outputs": [],
   "source": [
    "# training dataset for public high schools\n",
    "high_pub = schools_harris.loc[\n",
    "    (schools_harris['School.Type']=='High')&(schools_harris['Charter.Trad']=='Traditional Public School'),:]"
   ]
  },
  {
   "cell_type": "code",
   "execution_count": 18,
   "metadata": {},
   "outputs": [
    {
     "data": {
      "text/plain": [
       "KNeighborsClassifier(algorithm='auto', leaf_size=30, metric='minkowski',\n",
       "                     metric_params=None, n_jobs=None, n_neighbors=1, p=2,\n",
       "                     weights='uniform')"
      ]
     },
     "execution_count": 18,
     "metadata": {},
     "output_type": "execute_result"
    }
   ],
   "source": [
    "# public high schools classifier\n",
    "high_pub_classifier = KNeighborsClassifier(n_neighbors=1)\n",
    "high_pub_classifier.fit(high_pub.loc[:,[\"latitude\",\"longitude\"]],high_pub[\"School.ID\"])"
   ]
  },
  {
   "cell_type": "code",
   "execution_count": 19,
   "metadata": {},
   "outputs": [],
   "source": [
    "# public high schools classification results\n",
    "high_pub_pred = high_pub_classifier.predict(test_df.loc[:,['Latitude','Longitude']])"
   ]
  },
  {
   "cell_type": "markdown",
   "metadata": {},
   "source": [
    "## Zoning for charter high schools"
   ]
  },
  {
   "cell_type": "code",
   "execution_count": 20,
   "metadata": {},
   "outputs": [],
   "source": [
    "# training dataset for charter high schools\n",
    "high_charter = schools_harris.loc[\n",
    "    (schools_harris['School.Type']=='High')&(schools_harris['Charter.Trad']=='Charter'),:]"
   ]
  },
  {
   "cell_type": "code",
   "execution_count": 21,
   "metadata": {},
   "outputs": [
    {
     "data": {
      "text/plain": [
       "KNeighborsClassifier(algorithm='auto', leaf_size=30, metric='minkowski',\n",
       "                     metric_params=None, n_jobs=None, n_neighbors=1, p=2,\n",
       "                     weights='uniform')"
      ]
     },
     "execution_count": 21,
     "metadata": {},
     "output_type": "execute_result"
    }
   ],
   "source": [
    "# charter high schools classifier\n",
    "high_char_classifier = KNeighborsClassifier(n_neighbors=1)\n",
    "high_char_classifier.fit(high_charter.loc[:,[\"latitude\",\"longitude\"]],high_charter[\"School.ID\"])"
   ]
  },
  {
   "cell_type": "code",
   "execution_count": 22,
   "metadata": {},
   "outputs": [],
   "source": [
    "# charter high schools classification results\n",
    "high_char_pred = high_char_classifier.predict(test_df.loc[:,['Latitude','Longitude']])"
   ]
  },
  {
   "cell_type": "markdown",
   "metadata": {},
   "source": [
    "## Adding classification and school ratings to main dataframe"
   ]
  },
  {
   "cell_type": "code",
   "execution_count": 23,
   "metadata": {},
   "outputs": [],
   "source": [
    "# add columns to the test dataset to host each classification, school name and rating\n",
    "test_df[\"Elementary Public School ID\"] = elem_pub_pred\n",
    "test_df[\"Elementary Public School Name\"] = \"\"\n",
    "test_df[\"Elementary Public School Rating\"] = \"\"\n",
    "test_df[\"Elementary Charter School ID\"] = elem_char_pred\n",
    "test_df[\"Elementary Charter School Name\"] = \"\"\n",
    "test_df[\"Elementary Charter School Rating\"] = \"\"\n",
    "test_df[\"Public Middle School ID\"] = middle_pub_pred\n",
    "test_df[\"Public Middle School Name\"] = \"\"\n",
    "test_df[\"Public Middle School Rating\"] = \"\"\n",
    "test_df[\"Charter Middle School ID\"] = middle_char_pred\n",
    "test_df[\"Charter Middle School Name\"] = \"\"\n",
    "test_df[\"Charter Middle School Rating\"] = \"\"\n",
    "test_df[\"Public High School ID\"] = high_pub_pred\n",
    "test_df[\"Public High School Name\"] = \"\"\n",
    "test_df[\"Public High School Rating\"] = \"\"\n",
    "test_df[\"Charter High School ID\"] = high_char_pred\n",
    "test_df[\"Charter High School Name\"] = \"\"\n",
    "test_df[\"Charter High School Rating\"] = \"\""
   ]
  },
  {
   "cell_type": "code",
   "execution_count": 24,
   "metadata": {},
   "outputs": [],
   "source": [
    "# create lists for school name and TEA grade\n",
    "school_id = schools_harris[\"School.ID\"].to_list()\n",
    "school_names = schools_harris[\"School.Name\"].to_list()\n",
    "school_ratings = schools_harris[\"School Rating\"].to_list()"
   ]
  },
  {
   "cell_type": "code",
   "execution_count": 25,
   "metadata": {},
   "outputs": [],
   "source": [
    "# loop through lists above to insert data in the main DataFrame\n",
    "for x in range(0,len(school_names)):\n",
    "    test_df.loc[test_df[\n",
    "    \"Elementary Public School ID\"]==school_id[x],\"Elementary Public School Name\"]=school_names[x]\n",
    "    test_df.loc[test_df[\n",
    "    \"Elementary Public School ID\"]==school_id[x],\"Elementary Public School Rating\"]=school_ratings[x]\n",
    "    \n",
    "    test_df.loc[test_df[\n",
    "    \"Elementary Charter School ID\"]==school_id[x],\"Elementary Charter School Name\"]=school_names[x]\n",
    "    test_df.loc[test_df[\n",
    "    \"Elementary Charter School ID\"]==school_id[x],\"Elementary Charter School Rating\"]=school_ratings[x]\n",
    "    \n",
    "    test_df.loc[test_df[\n",
    "    \"Public Middle School ID\"]==school_id[x],\"Public Middle School Name\"]=school_names[x]\n",
    "    test_df.loc[test_df[\n",
    "    \"Public Middle School ID\"]==school_id[x],\"Public Middle School Rating\"]=school_ratings[x]\n",
    "    \n",
    "    test_df.loc[test_df[\n",
    "    \"Charter Middle School ID\"]==school_id[x],\"Charter Middle School Name\"]=school_names[x]\n",
    "    test_df.loc[test_df[\n",
    "    \"Charter Middle School ID\"]==school_id[x],\"Charter Middle School Rating\"]=school_ratings[x]\n",
    "    \n",
    "    test_df.loc[test_df[\n",
    "    \"Public High School ID\"]==school_id[x],\"Public High School Name\"]=school_names[x]\n",
    "    test_df.loc[test_df[\n",
    "    \"Public High School ID\"]==school_id[x],\"Public High School Rating\"]=school_ratings[x]\n",
    "    \n",
    "    test_df.loc[test_df[\n",
    "    \"Charter High School ID\"]==school_id[x],\"Charter High School Name\"]=school_names[x]\n",
    "    test_df.loc[test_df[\n",
    "    \"Charter High School ID\"]==school_id[x],\"Charter High School Rating\"]=school_ratings[x]"
   ]
  },
  {
   "cell_type": "code",
   "execution_count": 26,
   "metadata": {},
   "outputs": [],
   "source": [
    "# calculate averate of all school ratings per residence\n",
    "test_df[\"Average School Rating\"] = test_df[[\"Elementary Public School Rating\",\"Elementary Charter School Rating\",\n",
    "    \"Public Middle School Rating\",\"Charter Middle School Rating\",\n",
    "    \"Public High School Rating\",\"Charter High School Rating\"]].mean(axis=1)"
   ]
  },
  {
   "cell_type": "code",
   "execution_count": 27,
   "metadata": {},
   "outputs": [
    {
     "data": {
      "text/html": [
       "<div>\n",
       "<style scoped>\n",
       "    .dataframe tbody tr th:only-of-type {\n",
       "        vertical-align: middle;\n",
       "    }\n",
       "\n",
       "    .dataframe tbody tr th {\n",
       "        vertical-align: top;\n",
       "    }\n",
       "\n",
       "    .dataframe thead th {\n",
       "        text-align: right;\n",
       "    }\n",
       "</style>\n",
       "<table border=\"1\" class=\"dataframe\">\n",
       "  <thead>\n",
       "    <tr style=\"text-align: right;\">\n",
       "      <th></th>\n",
       "      <th>Unnamed: 0</th>\n",
       "      <th>Address</th>\n",
       "      <th>Latitude</th>\n",
       "      <th>Longitude</th>\n",
       "      <th>Flood Description</th>\n",
       "      <th>Flood Zone</th>\n",
       "      <th>Flood Risk</th>\n",
       "      <th>SITE_ADDR_1</th>\n",
       "      <th>ACCOUNT</th>\n",
       "      <th>TAX_YEAR</th>\n",
       "      <th>...</th>\n",
       "      <th>Charter Middle School ID</th>\n",
       "      <th>Charter Middle School Name</th>\n",
       "      <th>Charter Middle School Rating</th>\n",
       "      <th>Public High School ID</th>\n",
       "      <th>Public High School Name</th>\n",
       "      <th>Public High School Rating</th>\n",
       "      <th>Charter High School ID</th>\n",
       "      <th>Charter High School Name</th>\n",
       "      <th>Charter High School Rating</th>\n",
       "      <th>Average School Rating</th>\n",
       "    </tr>\n",
       "  </thead>\n",
       "  <tbody>\n",
       "    <tr>\n",
       "      <th>21750</th>\n",
       "      <td>21750</td>\n",
       "      <td>2428 ADDISON RD HOUSTON, Texas 77030</td>\n",
       "      <td>29.71201</td>\n",
       "      <td>-95.41622</td>\n",
       "      <td>0.2 PCT ANNUAL CHANCE FLOOD HAZARD</td>\n",
       "      <td>X</td>\n",
       "      <td>2</td>\n",
       "      <td>2428 ADDISON RD</td>\n",
       "      <td>641690040028</td>\n",
       "      <td>2019</td>\n",
       "      <td>...</td>\n",
       "      <td>101871041</td>\n",
       "      <td>A+ UNLIMITED POTENTIAL MIDDLE</td>\n",
       "      <td>75</td>\n",
       "      <td>101912026</td>\n",
       "      <td>DEBAKEY HIGH FOR HEALTH PROF</td>\n",
       "      <td>95</td>\n",
       "      <td>101912323</td>\n",
       "      <td>CHALLENGE EARLY COLLEGE HIGH</td>\n",
       "      <td>95</td>\n",
       "      <td>86.666667</td>\n",
       "    </tr>\n",
       "    <tr>\n",
       "      <th>13891</th>\n",
       "      <td>13891</td>\n",
       "      <td>1316 STANFORD ST HOUSTON, Texas 77019</td>\n",
       "      <td>29.75496</td>\n",
       "      <td>-95.38918</td>\n",
       "      <td>AREA OF MINIMAL FLOOD HAZARD</td>\n",
       "      <td>X</td>\n",
       "      <td>1</td>\n",
       "      <td>1316 STANFORD ST</td>\n",
       "      <td>1314990010002</td>\n",
       "      <td>2019</td>\n",
       "      <td>...</td>\n",
       "      <td>101912371</td>\n",
       "      <td>YOUNG SCHOLARS ACADEMY FOR EXCELLENCE MIDDLE</td>\n",
       "      <td>65</td>\n",
       "      <td>101912322</td>\n",
       "      <td>CARNEGIE VANGUARD HIGH</td>\n",
       "      <td>95</td>\n",
       "      <td>101912348</td>\n",
       "      <td>HOUSTON ACADEMY FOR INTERNATIONAL STUDIES HIGH</td>\n",
       "      <td>95</td>\n",
       "      <td>81.666667</td>\n",
       "    </tr>\n",
       "    <tr>\n",
       "      <th>7485</th>\n",
       "      <td>7485</td>\n",
       "      <td>421 DENNIS ST HOUSTON, Texas 77006</td>\n",
       "      <td>29.74751</td>\n",
       "      <td>-95.37893</td>\n",
       "      <td>AREA OF MINIMAL FLOOD HAZARD</td>\n",
       "      <td>X</td>\n",
       "      <td>1</td>\n",
       "      <td>421 DENNIS ST</td>\n",
       "      <td>132320010001</td>\n",
       "      <td>2019</td>\n",
       "      <td>...</td>\n",
       "      <td>101912371</td>\n",
       "      <td>YOUNG SCHOLARS ACADEMY FOR EXCELLENCE MIDDLE</td>\n",
       "      <td>65</td>\n",
       "      <td>101912322</td>\n",
       "      <td>CARNEGIE VANGUARD HIGH</td>\n",
       "      <td>95</td>\n",
       "      <td>101912348</td>\n",
       "      <td>HOUSTON ACADEMY FOR INTERNATIONAL STUDIES HIGH</td>\n",
       "      <td>95</td>\n",
       "      <td>75.000000</td>\n",
       "    </tr>\n",
       "    <tr>\n",
       "      <th>22849</th>\n",
       "      <td>22849</td>\n",
       "      <td>1728 HAWTHORNE ST HOUSTON, Texas 77098</td>\n",
       "      <td>29.74219</td>\n",
       "      <td>-95.40325</td>\n",
       "      <td>AREA OF MINIMAL FLOOD HAZARD</td>\n",
       "      <td>X</td>\n",
       "      <td>1</td>\n",
       "      <td>1728 HAWTHORNE ST</td>\n",
       "      <td>542300000007</td>\n",
       "      <td>2019</td>\n",
       "      <td>...</td>\n",
       "      <td>101912057</td>\n",
       "      <td>LANIER MIDDLE</td>\n",
       "      <td>95</td>\n",
       "      <td>101912322</td>\n",
       "      <td>CARNEGIE VANGUARD HIGH</td>\n",
       "      <td>95</td>\n",
       "      <td>101912348</td>\n",
       "      <td>HOUSTON ACADEMY FOR INTERNATIONAL STUDIES HIGH</td>\n",
       "      <td>95</td>\n",
       "      <td>83.333333</td>\n",
       "    </tr>\n",
       "  </tbody>\n",
       "</table>\n",
       "<p>4 rows × 48 columns</p>\n",
       "</div>"
      ],
      "text/plain": [
       "       Unnamed: 0                                 Address  Latitude  \\\n",
       "21750       21750    2428 ADDISON RD HOUSTON, Texas 77030  29.71201   \n",
       "13891       13891   1316 STANFORD ST HOUSTON, Texas 77019  29.75496   \n",
       "7485         7485      421 DENNIS ST HOUSTON, Texas 77006  29.74751   \n",
       "22849       22849  1728 HAWTHORNE ST HOUSTON, Texas 77098  29.74219   \n",
       "\n",
       "       Longitude                   Flood Description Flood Zone  Flood Risk  \\\n",
       "21750  -95.41622  0.2 PCT ANNUAL CHANCE FLOOD HAZARD          X           2   \n",
       "13891  -95.38918        AREA OF MINIMAL FLOOD HAZARD          X           1   \n",
       "7485   -95.37893        AREA OF MINIMAL FLOOD HAZARD          X           1   \n",
       "22849  -95.40325        AREA OF MINIMAL FLOOD HAZARD          X           1   \n",
       "\n",
       "             SITE_ADDR_1        ACCOUNT  TAX_YEAR  ...  \\\n",
       "21750    2428 ADDISON RD   641690040028      2019  ...   \n",
       "13891   1316 STANFORD ST  1314990010002      2019  ...   \n",
       "7485       421 DENNIS ST   132320010001      2019  ...   \n",
       "22849  1728 HAWTHORNE ST   542300000007      2019  ...   \n",
       "\n",
       "      Charter Middle School ID                    Charter Middle School Name  \\\n",
       "21750                101871041                 A+ UNLIMITED POTENTIAL MIDDLE   \n",
       "13891                101912371  YOUNG SCHOLARS ACADEMY FOR EXCELLENCE MIDDLE   \n",
       "7485                 101912371  YOUNG SCHOLARS ACADEMY FOR EXCELLENCE MIDDLE   \n",
       "22849                101912057                                 LANIER MIDDLE   \n",
       "\n",
       "      Charter Middle School Rating  Public High School ID  \\\n",
       "21750                           75              101912026   \n",
       "13891                           65              101912322   \n",
       "7485                            65              101912322   \n",
       "22849                           95              101912322   \n",
       "\n",
       "            Public High School Name  Public High School Rating  \\\n",
       "21750  DEBAKEY HIGH FOR HEALTH PROF                         95   \n",
       "13891        CARNEGIE VANGUARD HIGH                         95   \n",
       "7485         CARNEGIE VANGUARD HIGH                         95   \n",
       "22849        CARNEGIE VANGUARD HIGH                         95   \n",
       "\n",
       "      Charter High School ID                        Charter High School Name  \\\n",
       "21750              101912323                    CHALLENGE EARLY COLLEGE HIGH   \n",
       "13891              101912348  HOUSTON ACADEMY FOR INTERNATIONAL STUDIES HIGH   \n",
       "7485               101912348  HOUSTON ACADEMY FOR INTERNATIONAL STUDIES HIGH   \n",
       "22849              101912348  HOUSTON ACADEMY FOR INTERNATIONAL STUDIES HIGH   \n",
       "\n",
       "       Charter High School Rating  Average School Rating  \n",
       "21750                          95              86.666667  \n",
       "13891                          95              81.666667  \n",
       "7485                           95              75.000000  \n",
       "22849                          95              83.333333  \n",
       "\n",
       "[4 rows x 48 columns]"
      ]
     },
     "execution_count": 27,
     "metadata": {},
     "output_type": "execute_result"
    }
   ],
   "source": [
    "test_df.sample(4)"
   ]
  },
  {
   "cell_type": "code",
   "execution_count": 28,
   "metadata": {},
   "outputs": [],
   "source": [
    "test_df.to_csv(\"Output/combined_flood_crime_and_school_data.csv\")"
   ]
  },
  {
   "cell_type": "code",
   "execution_count": 29,
   "metadata": {},
   "outputs": [
    {
     "data": {
      "text/html": [
       "<div>\n",
       "<style scoped>\n",
       "    .dataframe tbody tr th:only-of-type {\n",
       "        vertical-align: middle;\n",
       "    }\n",
       "\n",
       "    .dataframe tbody tr th {\n",
       "        vertical-align: top;\n",
       "    }\n",
       "\n",
       "    .dataframe thead th {\n",
       "        text-align: right;\n",
       "    }\n",
       "</style>\n",
       "<table border=\"1\" class=\"dataframe\">\n",
       "  <thead>\n",
       "    <tr style=\"text-align: right;\">\n",
       "      <th></th>\n",
       "      <th>Address</th>\n",
       "      <th>Elementary Public School Name</th>\n",
       "      <th>Elementary Charter School Name</th>\n",
       "      <th>Public Middle School Name</th>\n",
       "      <th>Charter Middle School Name</th>\n",
       "      <th>Public High School Name</th>\n",
       "      <th>Charter High School Name</th>\n",
       "    </tr>\n",
       "  </thead>\n",
       "  <tbody>\n",
       "    <tr>\n",
       "      <th>10581</th>\n",
       "      <td>2113 CROCKER ST HOUSTON, Texas 77006</td>\n",
       "      <td>WHARTON K-8 DUAL LANGUAGE ACADEMY MIDDLE</td>\n",
       "      <td>YOUNG SCHOLARS ACADEMY FOR EXCELLENCE MIDDLE</td>\n",
       "      <td>WHARTON K-8 DUAL LANGUAGE ACADEMY MIDDLE</td>\n",
       "      <td>LANIER MIDDLE</td>\n",
       "      <td>CARNEGIE VANGUARD HIGH</td>\n",
       "      <td>HOUSTON ACADEMY FOR INTERNATIONAL STUDIES HIGH</td>\n",
       "    </tr>\n",
       "    <tr>\n",
       "      <th>12331</th>\n",
       "      <td>2520 PELHAM DR HOUSTON, Texas 77019</td>\n",
       "      <td>RIVER OAKS ELEMENTARY</td>\n",
       "      <td>CROCKETT ELEMENTARY</td>\n",
       "      <td>WILSON MONTESSORI MIDDLE</td>\n",
       "      <td>LANIER MIDDLE</td>\n",
       "      <td>LAMAR HIGH</td>\n",
       "      <td>CHALLENGE EARLY COLLEGE HIGH</td>\n",
       "    </tr>\n",
       "    <tr>\n",
       "      <th>21032</th>\n",
       "      <td>2525 SOUTHGATE BLVD HOUSTON, Texas 77030</td>\n",
       "      <td>ROBERTS ELEMENTARY</td>\n",
       "      <td>HARMONY SCHOOL OF FINE ARTS AND TECHNOLOGY - H...</td>\n",
       "      <td>RICE SCHOOL /LA ESCUELA RICE MIDDLE</td>\n",
       "      <td>A+ UNLIMITED POTENTIAL MIDDLE</td>\n",
       "      <td>DEBAKEY HIGH FOR HEALTH PROF</td>\n",
       "      <td>CHALLENGE EARLY COLLEGE HIGH</td>\n",
       "    </tr>\n",
       "    <tr>\n",
       "      <th>1316</th>\n",
       "      <td>2215 BOLSOVER ST HOUSTON, Texas 77005</td>\n",
       "      <td>ROBERTS ELEMENTARY</td>\n",
       "      <td>HARMONY SCHOOL OF FINE ARTS AND TECHNOLOGY - H...</td>\n",
       "      <td>RICE SCHOOL /LA ESCUELA RICE MIDDLE</td>\n",
       "      <td>A+ UNLIMITED POTENTIAL MIDDLE</td>\n",
       "      <td>DEBAKEY HIGH FOR HEALTH PROF</td>\n",
       "      <td>HOUSTON ACADEMY FOR INTERNATIONAL STUDIES HIGH</td>\n",
       "    </tr>\n",
       "    <tr>\n",
       "      <th>4889</th>\n",
       "      <td>2905 PLUMB ST HOUSTON, Texas 77005</td>\n",
       "      <td>WEST UNIVERSITY ELEMENTARY</td>\n",
       "      <td>HARMONY SCHOOL OF FINE ARTS AND TECHNOLOGY - H...</td>\n",
       "      <td>RICE SCHOOL /LA ESCUELA RICE MIDDLE</td>\n",
       "      <td>LANIER MIDDLE</td>\n",
       "      <td>LAMAR HIGH</td>\n",
       "      <td>CHALLENGE EARLY COLLEGE HIGH</td>\n",
       "    </tr>\n",
       "    <tr>\n",
       "      <th>17863</th>\n",
       "      <td>4022 GLENSHIRE ST HOUSTON, Texas 77025</td>\n",
       "      <td>SHEARN ELEMENTARY</td>\n",
       "      <td>HARMONY SCHOOL OF FINE ARTS AND TECHNOLOGY - H...</td>\n",
       "      <td>PERSHING MIDDLE</td>\n",
       "      <td>HARMONY SCHOOL OF INGENUITY - HOUSTON MIDDLE</td>\n",
       "      <td>BELLAIRE HIGH</td>\n",
       "      <td>HARMONY SCHOOL OF INGENUITY - HOUSTON MIDDLE</td>\n",
       "    </tr>\n",
       "    <tr>\n",
       "      <th>12806</th>\n",
       "      <td>3665 WILLOWICK RD HOUSTON, Texas 77019</td>\n",
       "      <td>RIVER OAKS ELEMENTARY</td>\n",
       "      <td>AMIGOS POR VIDA-FRIENDS FOR LIFE CHARTER S MIDDLE</td>\n",
       "      <td>TANGLEWOOD MIDDLE</td>\n",
       "      <td>LANIER MIDDLE</td>\n",
       "      <td>LAMAR HIGH</td>\n",
       "      <td>CHALLENGE EARLY COLLEGE HIGH</td>\n",
       "    </tr>\n",
       "    <tr>\n",
       "      <th>20111</th>\n",
       "      <td>4102 NORFOLK ST HOUSTON, Texas 77027</td>\n",
       "      <td>WEST UNIVERSITY ELEMENTARY</td>\n",
       "      <td>AMIGOS POR VIDA-FRIENDS FOR LIFE CHARTER S MIDDLE</td>\n",
       "      <td>PIN OAK MIDDLE</td>\n",
       "      <td>AMIGOS POR VIDA-FRIENDS FOR LIFE CHARTER S MIDDLE</td>\n",
       "      <td>LAMAR HIGH</td>\n",
       "      <td>CHALLENGE EARLY COLLEGE HIGH</td>\n",
       "    </tr>\n",
       "    <tr>\n",
       "      <th>13388</th>\n",
       "      <td>1404 ONEIL ST HOUSTON, Texas 77019</td>\n",
       "      <td>GREGORY-LINCOLN EDUCATIONAL CENTER MIDDLE</td>\n",
       "      <td>YOUNG SCHOLARS ACADEMY FOR EXCELLENCE MIDDLE</td>\n",
       "      <td>GREGORY-LINCOLN EDUCATIONAL CENTER MIDDLE</td>\n",
       "      <td>YOUNG SCHOLARS ACADEMY FOR EXCELLENCE MIDDLE</td>\n",
       "      <td>CARNEGIE VANGUARD HIGH</td>\n",
       "      <td>HOUSTON ACADEMY FOR INTERNATIONAL STUDIES HIGH</td>\n",
       "    </tr>\n",
       "    <tr>\n",
       "      <th>11111</th>\n",
       "      <td>2006 FAIRVIEW ST HOUSTON, Texas 77019</td>\n",
       "      <td>WILSON MONTESSORI MIDDLE</td>\n",
       "      <td>YOUNG SCHOLARS ACADEMY FOR EXCELLENCE MIDDLE</td>\n",
       "      <td>WILSON MONTESSORI MIDDLE</td>\n",
       "      <td>LANIER MIDDLE</td>\n",
       "      <td>LAMAR HIGH</td>\n",
       "      <td>HOUSTON ACADEMY FOR INTERNATIONAL STUDIES HIGH</td>\n",
       "    </tr>\n",
       "  </tbody>\n",
       "</table>\n",
       "</div>"
      ],
      "text/plain": [
       "                                        Address  \\\n",
       "10581      2113 CROCKER ST HOUSTON, Texas 77006   \n",
       "12331       2520 PELHAM DR HOUSTON, Texas 77019   \n",
       "21032  2525 SOUTHGATE BLVD HOUSTON, Texas 77030   \n",
       "1316      2215 BOLSOVER ST HOUSTON, Texas 77005   \n",
       "4889         2905 PLUMB ST HOUSTON, Texas 77005   \n",
       "17863    4022 GLENSHIRE ST HOUSTON, Texas 77025   \n",
       "12806    3665 WILLOWICK RD HOUSTON, Texas 77019   \n",
       "20111      4102 NORFOLK ST HOUSTON, Texas 77027   \n",
       "13388        1404 ONEIL ST HOUSTON, Texas 77019   \n",
       "11111     2006 FAIRVIEW ST HOUSTON, Texas 77019   \n",
       "\n",
       "                   Elementary Public School Name  \\\n",
       "10581   WHARTON K-8 DUAL LANGUAGE ACADEMY MIDDLE   \n",
       "12331                      RIVER OAKS ELEMENTARY   \n",
       "21032                         ROBERTS ELEMENTARY   \n",
       "1316                          ROBERTS ELEMENTARY   \n",
       "4889                  WEST UNIVERSITY ELEMENTARY   \n",
       "17863                          SHEARN ELEMENTARY   \n",
       "12806                      RIVER OAKS ELEMENTARY   \n",
       "20111                 WEST UNIVERSITY ELEMENTARY   \n",
       "13388  GREGORY-LINCOLN EDUCATIONAL CENTER MIDDLE   \n",
       "11111                   WILSON MONTESSORI MIDDLE   \n",
       "\n",
       "                          Elementary Charter School Name  \\\n",
       "10581       YOUNG SCHOLARS ACADEMY FOR EXCELLENCE MIDDLE   \n",
       "12331                                CROCKETT ELEMENTARY   \n",
       "21032  HARMONY SCHOOL OF FINE ARTS AND TECHNOLOGY - H...   \n",
       "1316   HARMONY SCHOOL OF FINE ARTS AND TECHNOLOGY - H...   \n",
       "4889   HARMONY SCHOOL OF FINE ARTS AND TECHNOLOGY - H...   \n",
       "17863  HARMONY SCHOOL OF FINE ARTS AND TECHNOLOGY - H...   \n",
       "12806  AMIGOS POR VIDA-FRIENDS FOR LIFE CHARTER S MIDDLE   \n",
       "20111  AMIGOS POR VIDA-FRIENDS FOR LIFE CHARTER S MIDDLE   \n",
       "13388       YOUNG SCHOLARS ACADEMY FOR EXCELLENCE MIDDLE   \n",
       "11111       YOUNG SCHOLARS ACADEMY FOR EXCELLENCE MIDDLE   \n",
       "\n",
       "                       Public Middle School Name  \\\n",
       "10581   WHARTON K-8 DUAL LANGUAGE ACADEMY MIDDLE   \n",
       "12331                   WILSON MONTESSORI MIDDLE   \n",
       "21032        RICE SCHOOL /LA ESCUELA RICE MIDDLE   \n",
       "1316         RICE SCHOOL /LA ESCUELA RICE MIDDLE   \n",
       "4889         RICE SCHOOL /LA ESCUELA RICE MIDDLE   \n",
       "17863                            PERSHING MIDDLE   \n",
       "12806                          TANGLEWOOD MIDDLE   \n",
       "20111                             PIN OAK MIDDLE   \n",
       "13388  GREGORY-LINCOLN EDUCATIONAL CENTER MIDDLE   \n",
       "11111                   WILSON MONTESSORI MIDDLE   \n",
       "\n",
       "                              Charter Middle School Name  \\\n",
       "10581                                      LANIER MIDDLE   \n",
       "12331                                      LANIER MIDDLE   \n",
       "21032                      A+ UNLIMITED POTENTIAL MIDDLE   \n",
       "1316                       A+ UNLIMITED POTENTIAL MIDDLE   \n",
       "4889                                       LANIER MIDDLE   \n",
       "17863       HARMONY SCHOOL OF INGENUITY - HOUSTON MIDDLE   \n",
       "12806                                      LANIER MIDDLE   \n",
       "20111  AMIGOS POR VIDA-FRIENDS FOR LIFE CHARTER S MIDDLE   \n",
       "13388       YOUNG SCHOLARS ACADEMY FOR EXCELLENCE MIDDLE   \n",
       "11111                                      LANIER MIDDLE   \n",
       "\n",
       "            Public High School Name  \\\n",
       "10581        CARNEGIE VANGUARD HIGH   \n",
       "12331                    LAMAR HIGH   \n",
       "21032  DEBAKEY HIGH FOR HEALTH PROF   \n",
       "1316   DEBAKEY HIGH FOR HEALTH PROF   \n",
       "4889                     LAMAR HIGH   \n",
       "17863                 BELLAIRE HIGH   \n",
       "12806                    LAMAR HIGH   \n",
       "20111                    LAMAR HIGH   \n",
       "13388        CARNEGIE VANGUARD HIGH   \n",
       "11111                    LAMAR HIGH   \n",
       "\n",
       "                             Charter High School Name  \n",
       "10581  HOUSTON ACADEMY FOR INTERNATIONAL STUDIES HIGH  \n",
       "12331                    CHALLENGE EARLY COLLEGE HIGH  \n",
       "21032                    CHALLENGE EARLY COLLEGE HIGH  \n",
       "1316   HOUSTON ACADEMY FOR INTERNATIONAL STUDIES HIGH  \n",
       "4889                     CHALLENGE EARLY COLLEGE HIGH  \n",
       "17863    HARMONY SCHOOL OF INGENUITY - HOUSTON MIDDLE  \n",
       "12806                    CHALLENGE EARLY COLLEGE HIGH  \n",
       "20111                    CHALLENGE EARLY COLLEGE HIGH  \n",
       "13388  HOUSTON ACADEMY FOR INTERNATIONAL STUDIES HIGH  \n",
       "11111  HOUSTON ACADEMY FOR INTERNATIONAL STUDIES HIGH  "
      ]
     },
     "execution_count": 29,
     "metadata": {},
     "output_type": "execute_result"
    }
   ],
   "source": [
    "qc = test_df[[\"Address\",\"Elementary Public School Name\",\"Elementary Charter School Name\",\"Public Middle School Name\",\n",
    "                       \"Charter Middle School Name\",\"Public High School Name\",\"Charter High School Name\"]]\n",
    "qc.sample(10)"
   ]
  },
  {
   "cell_type": "code",
   "execution_count": null,
   "metadata": {},
   "outputs": [],
   "source": []
  }
 ],
 "metadata": {
  "kernelspec": {
   "display_name": "Python [conda env:PythonData] *",
   "language": "python",
   "name": "conda-env-PythonData-py"
  },
  "language_info": {
   "codemirror_mode": {
    "name": "ipython",
    "version": 3
   },
   "file_extension": ".py",
   "mimetype": "text/x-python",
   "name": "python",
   "nbconvert_exporter": "python",
   "pygments_lexer": "ipython3",
   "version": "3.8.3"
  }
 },
 "nbformat": 4,
 "nbformat_minor": 4
}
