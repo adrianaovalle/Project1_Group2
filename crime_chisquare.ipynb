{
 "cells": [
  {
   "cell_type": "markdown",
   "metadata": {},
   "source": [
    "# Evaluating The Significance In Offense Counts Among Zip Codes\n",
    "### Ho: Crime offences are equaly likely among all zip codes\n",
    "### Ha: Some zip codes are more prone to crime than others"
   ]
  },
  {
   "cell_type": "code",
   "execution_count": 1,
   "metadata": {},
   "outputs": [],
   "source": [
    "import pandas as pd\n",
    "import scipy.stats as stats"
   ]
  },
  {
   "cell_type": "code",
   "execution_count": 5,
   "metadata": {},
   "outputs": [
    {
     "data": {
      "text/plain": [
       "Index(['Unnamed: 0', 'Unnamed: 0.1', 'Address', 'Latitude', 'Longitude',\n",
       "       'Flood Description', 'Flood Zone', 'Flood Risk', 'SITE_ADDR_1',\n",
       "       'ACCOUNT', 'SITE_ADDR_3', 'NEIGHBORHOOD_CODE', 'NEIGHBORHOOD_GROUP',\n",
       "       'TOTAL_BUILDING_AREA', 'TOTAL_LAND_AREA', 'ACREAGE', 'LAND_VALUE_2019',\n",
       "       'TOTAL_APPRAISED_VALUE_2019', 'TOTAL_MARKET_VALUE_2019',\n",
       "       'LAND_VALUE_2018', 'TOTAL_APPRAISED_VALUE_2018',\n",
       "       'TOTAL_MARKET_VALUE_2018', 'pct_change_land_value_2018_2019',\n",
       "       'pct_change_total_appraised_value_2018_2019',\n",
       "       'pct_change_total_market_value_2018_2019', 'SQ_FT', 'NEIGHBORHOOD',\n",
       "       'Offense Count', 'crime_rank', 'Elementary Public School ID',\n",
       "       'Elementary Public School Name', 'Elementary Public School Rating',\n",
       "       'Elementary Charter School ID', 'Elementary Charter School Name',\n",
       "       'Elementary Charter School Rating', 'Public Middle School ID',\n",
       "       'Public Middle School Name', 'Public Middle School Rating',\n",
       "       'Charter Middle School ID', 'Charter Middle School Name',\n",
       "       'Charter Middle School Rating', 'Public High School ID',\n",
       "       'Public High School Name', 'Public High School Rating',\n",
       "       'Charter High School ID', 'Charter High School Name',\n",
       "       'Charter High School Rating', 'Average School Rating'],\n",
       "      dtype='object')"
      ]
     },
     "execution_count": 5,
     "metadata": {},
     "output_type": "execute_result"
    }
   ],
   "source": [
    "# read the csv data file into a DataFrame\n",
    "file = pd.read_csv(\"Resources/combined_flood_crime_and_school_data.csv\")\n",
    "data = pd.DataFrame(file)\n",
    "data.columns"
   ]
  },
  {
   "cell_type": "code",
   "execution_count": 12,
   "metadata": {},
   "outputs": [
    {
     "data": {
      "text/html": [
       "<div>\n",
       "<style scoped>\n",
       "    .dataframe tbody tr th:only-of-type {\n",
       "        vertical-align: middle;\n",
       "    }\n",
       "\n",
       "    .dataframe tbody tr th {\n",
       "        vertical-align: top;\n",
       "    }\n",
       "\n",
       "    .dataframe thead th {\n",
       "        text-align: right;\n",
       "    }\n",
       "</style>\n",
       "<table border=\"1\" class=\"dataframe\">\n",
       "  <thead>\n",
       "    <tr style=\"text-align: right;\">\n",
       "      <th></th>\n",
       "      <th>SITE_ADDR_3</th>\n",
       "      <th>Offense Count</th>\n",
       "    </tr>\n",
       "  </thead>\n",
       "  <tbody>\n",
       "    <tr>\n",
       "      <th>0</th>\n",
       "      <td>77002.0</td>\n",
       "      <td>4870</td>\n",
       "    </tr>\n",
       "    <tr>\n",
       "      <th>1</th>\n",
       "      <td>77002.0</td>\n",
       "      <td>4870</td>\n",
       "    </tr>\n",
       "    <tr>\n",
       "      <th>2</th>\n",
       "      <td>77002.0</td>\n",
       "      <td>4870</td>\n",
       "    </tr>\n",
       "    <tr>\n",
       "      <th>3</th>\n",
       "      <td>77002.0</td>\n",
       "      <td>4870</td>\n",
       "    </tr>\n",
       "    <tr>\n",
       "      <th>4</th>\n",
       "      <td>77002.0</td>\n",
       "      <td>4870</td>\n",
       "    </tr>\n",
       "  </tbody>\n",
       "</table>\n",
       "</div>"
      ],
      "text/plain": [
       "   SITE_ADDR_3  Offense Count\n",
       "0      77002.0           4870\n",
       "1      77002.0           4870\n",
       "2      77002.0           4870\n",
       "3      77002.0           4870\n",
       "4      77002.0           4870"
      ]
     },
     "execution_count": 12,
     "metadata": {},
     "output_type": "execute_result"
    }
   ],
   "source": [
    "# extract the columns of interest\n",
    "data_2 = data[['SITE_ADDR_3',\"Offense Count\"]]\n",
    "data_2.head()"
   ]
  },
  {
   "cell_type": "code",
   "execution_count": 15,
   "metadata": {},
   "outputs": [],
   "source": [
    "data_2 = data_2.groupby(['SITE_ADDR_3']).mean()"
   ]
  },
  {
   "cell_type": "code",
   "execution_count": 16,
   "metadata": {},
   "outputs": [
    {
     "data": {
      "text/html": [
       "<div>\n",
       "<style scoped>\n",
       "    .dataframe tbody tr th:only-of-type {\n",
       "        vertical-align: middle;\n",
       "    }\n",
       "\n",
       "    .dataframe tbody tr th {\n",
       "        vertical-align: top;\n",
       "    }\n",
       "\n",
       "    .dataframe thead th {\n",
       "        text-align: right;\n",
       "    }\n",
       "</style>\n",
       "<table border=\"1\" class=\"dataframe\">\n",
       "  <thead>\n",
       "    <tr style=\"text-align: right;\">\n",
       "      <th></th>\n",
       "      <th>Offense Count</th>\n",
       "    </tr>\n",
       "    <tr>\n",
       "      <th>SITE_ADDR_3</th>\n",
       "      <th></th>\n",
       "    </tr>\n",
       "  </thead>\n",
       "  <tbody>\n",
       "    <tr>\n",
       "      <th>77002.0</th>\n",
       "      <td>4870</td>\n",
       "    </tr>\n",
       "    <tr>\n",
       "      <th>77005.0</th>\n",
       "      <td>1026</td>\n",
       "    </tr>\n",
       "    <tr>\n",
       "      <th>77006.0</th>\n",
       "      <td>3759</td>\n",
       "    </tr>\n",
       "    <tr>\n",
       "      <th>77019.0</th>\n",
       "      <td>2330</td>\n",
       "    </tr>\n",
       "    <tr>\n",
       "      <th>77025.0</th>\n",
       "      <td>2270</td>\n",
       "    </tr>\n",
       "  </tbody>\n",
       "</table>\n",
       "</div>"
      ],
      "text/plain": [
       "             Offense Count\n",
       "SITE_ADDR_3               \n",
       "77002.0               4870\n",
       "77005.0               1026\n",
       "77006.0               3759\n",
       "77019.0               2330\n",
       "77025.0               2270"
      ]
     },
     "execution_count": 16,
     "metadata": {},
     "output_type": "execute_result"
    }
   ],
   "source": [
    "data_2.head()"
   ]
  },
  {
   "cell_type": "code",
   "execution_count": 17,
   "metadata": {},
   "outputs": [
    {
     "data": {
      "text/html": [
       "<div>\n",
       "<style scoped>\n",
       "    .dataframe tbody tr th:only-of-type {\n",
       "        vertical-align: middle;\n",
       "    }\n",
       "\n",
       "    .dataframe tbody tr th {\n",
       "        vertical-align: top;\n",
       "    }\n",
       "\n",
       "    .dataframe thead th {\n",
       "        text-align: right;\n",
       "    }\n",
       "</style>\n",
       "<table border=\"1\" class=\"dataframe\">\n",
       "  <thead>\n",
       "    <tr style=\"text-align: right;\">\n",
       "      <th></th>\n",
       "      <th>Offense Count</th>\n",
       "      <th>Expected</th>\n",
       "    </tr>\n",
       "    <tr>\n",
       "      <th>SITE_ADDR_3</th>\n",
       "      <th></th>\n",
       "      <th></th>\n",
       "    </tr>\n",
       "  </thead>\n",
       "  <tbody>\n",
       "    <tr>\n",
       "      <th>77002.0</th>\n",
       "      <td>4870</td>\n",
       "      <td>2539.777778</td>\n",
       "    </tr>\n",
       "    <tr>\n",
       "      <th>77005.0</th>\n",
       "      <td>1026</td>\n",
       "      <td>2539.777778</td>\n",
       "    </tr>\n",
       "    <tr>\n",
       "      <th>77006.0</th>\n",
       "      <td>3759</td>\n",
       "      <td>2539.777778</td>\n",
       "    </tr>\n",
       "    <tr>\n",
       "      <th>77019.0</th>\n",
       "      <td>2330</td>\n",
       "      <td>2539.777778</td>\n",
       "    </tr>\n",
       "    <tr>\n",
       "      <th>77025.0</th>\n",
       "      <td>2270</td>\n",
       "      <td>2539.777778</td>\n",
       "    </tr>\n",
       "    <tr>\n",
       "      <th>77027.0</th>\n",
       "      <td>2014</td>\n",
       "      <td>2539.777778</td>\n",
       "    </tr>\n",
       "    <tr>\n",
       "      <th>77030.0</th>\n",
       "      <td>1485</td>\n",
       "      <td>2539.777778</td>\n",
       "    </tr>\n",
       "    <tr>\n",
       "      <th>77054.0</th>\n",
       "      <td>3053</td>\n",
       "      <td>2539.777778</td>\n",
       "    </tr>\n",
       "    <tr>\n",
       "      <th>77098.0</th>\n",
       "      <td>2051</td>\n",
       "      <td>2539.777778</td>\n",
       "    </tr>\n",
       "  </tbody>\n",
       "</table>\n",
       "</div>"
      ],
      "text/plain": [
       "             Offense Count     Expected\n",
       "SITE_ADDR_3                            \n",
       "77002.0               4870  2539.777778\n",
       "77005.0               1026  2539.777778\n",
       "77006.0               3759  2539.777778\n",
       "77019.0               2330  2539.777778\n",
       "77025.0               2270  2539.777778\n",
       "77027.0               2014  2539.777778\n",
       "77030.0               1485  2539.777778\n",
       "77054.0               3053  2539.777778\n",
       "77098.0               2051  2539.777778"
      ]
     },
     "execution_count": 17,
     "metadata": {},
     "output_type": "execute_result"
    }
   ],
   "source": [
    "# assuming there is no difference in crime among the different zip codes \n",
    "# calculate the expected offense count as equal for each zip code\n",
    "data_2['Expected'] = data_2['Offense Count'].sum()/len(data_2['Offense Count'])\n",
    "data_2"
   ]
  },
  {
   "cell_type": "code",
   "execution_count": null,
   "metadata": {},
   "outputs": [],
   "source": [
    "# The degree of freedom\n",
    "df = len(data_2['Offense Count'])-1"
   ]
  },
  {
   "cell_type": "code",
   "execution_count": 20,
   "metadata": {},
   "outputs": [
    {
     "data": {
      "text/plain": [
       "15.50731305586545"
      ]
     },
     "execution_count": 20,
     "metadata": {},
     "output_type": "execute_result"
    }
   ],
   "source": [
    "# With a significance of 0.05, the confidence level is 1.00-0.05 = 0.95.\n",
    "critical_value = stats.chi2.ppf(q = 0.95, df = df)\n",
    "critical_value"
   ]
  },
  {
   "cell_type": "code",
   "execution_count": 22,
   "metadata": {},
   "outputs": [
    {
     "data": {
      "text/plain": [
       "Power_divergenceResult(statistic=4416.153119258028, pvalue=0.0)"
      ]
     },
     "execution_count": 22,
     "metadata": {},
     "output_type": "execute_result"
    }
   ],
   "source": [
    "# Run the chi square test with stats.chisquare()\n",
    "stats.chisquare(data_2['Offense Count'], data_2['Expected'])"
   ]
  },
  {
   "cell_type": "markdown",
   "metadata": {},
   "source": [
    "### Because the chisquare value (44416.15) is significantly higher than the critical value (15.51), we can reject the null hypothesis and assume that the observed crime among the different zip codes is actually significant."
   ]
  }
 ],
 "metadata": {
  "kernelspec": {
   "display_name": "Python [conda env:PythonData] *",
   "language": "python",
   "name": "conda-env-PythonData-py"
  },
  "language_info": {
   "codemirror_mode": {
    "name": "ipython",
    "version": 3
   },
   "file_extension": ".py",
   "mimetype": "text/x-python",
   "name": "python",
   "nbconvert_exporter": "python",
   "pygments_lexer": "ipython3",
   "version": "3.8.3"
  }
 },
 "nbformat": 4,
 "nbformat_minor": 4
}
