{
 "cells": [
  {
   "cell_type": "code",
   "execution_count": 1,
   "metadata": {},
   "outputs": [],
   "source": [
    "# Import dependency modules:\n",
    "import pandas as pd\n",
    "import csv\n",
    "import zipfile\n",
    "import numpy as np"
   ]
  },
  {
   "cell_type": "code",
   "execution_count": 2,
   "metadata": {},
   "outputs": [],
   "source": [
    "#Define field names as specified from HCAD  Real Account documentation\n",
    "\n",
    "# make a datframe from the 2019 real_acct data from HCAD\n",
    "data=[]\n",
    "field_names=['Account', 'Date of Sale', 'Name', 'Address']"
   ]
  },
  {
   "cell_type": "code",
   "execution_count": 5,
   "metadata": {},
   "outputs": [],
   "source": [
    "# Create DataFrame for 2018 Data:\n",
    "with open('ownership_history.txt','r')as txtfile:\n",
    "    csvreader=csv.reader(txtfile, delimiter = '\\t')\n",
    "    for row in csvreader:\n",
    "        data.append(row)\n",
    "owners=pd.DataFrame(columns=field_names, data=data)\n",
    "owners.sample(5)\n",
    "owners.to_csv('owners.csv')"
   ]
  }
 ],
 "metadata": {
  "kernelspec": {
   "display_name": "Python [conda env:PythonData]",
   "language": "python",
   "name": "conda-env-PythonData-py"
  },
  "language_info": {
   "codemirror_mode": {
    "name": "ipython",
    "version": 3
   },
   "file_extension": ".py",
   "mimetype": "text/x-python",
   "name": "python",
   "nbconvert_exporter": "python",
   "pygments_lexer": "ipython3",
   "version": "3.8.3"
  }
 },
 "nbformat": 4,
 "nbformat_minor": 4
}
