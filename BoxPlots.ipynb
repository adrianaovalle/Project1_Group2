{
 "cells": [
  {
   "cell_type": "markdown",
   "metadata": {},
   "source": [
    "# Box Plots for All Parameters"
   ]
  },
  {
   "cell_type": "code",
   "execution_count": null,
   "metadata": {},
   "outputs": [],
   "source": [
    "#The following runs boxplots for all parameters"
   ]
  },
  {
   "cell_type": "code",
   "execution_count": null,
   "metadata": {},
   "outputs": [],
   "source": [
    "import pandas as pd\n",
    "import matplotlib.pyplot as plt\n",
    "import gmaps\n",
    "import numpy as np\n",
    "import seaborn as sns\n"
   ]
  },
  {
   "cell_type": "markdown",
   "metadata": {},
   "source": [
    "### Import Data File"
   ]
  },
  {
   "cell_type": "code",
   "execution_count": null,
   "metadata": {},
   "outputs": [],
   "source": [
    "# read file with all needed data\n",
    "file = \"Resources/all_data_merged.csv\"\n",
    "all_data = pd.read_csv(file)\n",
    "del all_data['Unnamed: 0']\n",
    "all_data.info()"
   ]
  },
  {
   "cell_type": "markdown",
   "metadata": {},
   "source": [
    "## Build Boxplots"
   ]
  },
  {
   "cell_type": "code",
   "execution_count": null,
   "metadata": {},
   "outputs": [],
   "source": [
    "fig1=all_data.boxplot(\"TOTAL_APPRAISED_VALUE_2019\", by=\"Zip Code\", figsize=(20, 10), patch_artist=True) \n",
    "plt.savefig('Images/BoxPlot1.png')\n"
   ]
  },
  {
   "cell_type": "code",
   "execution_count": null,
   "metadata": {},
   "outputs": [],
   "source": [
    "fig2=all_data.boxplot(\"ACREAGE\", by=\"Zip Code\", figsize=(20, 10), patch_artist=True) \n",
    "plt.savefig('Images/BoxPlot2.png')\n"
   ]
  },
  {
   "cell_type": "code",
   "execution_count": null,
   "metadata": {},
   "outputs": [],
   "source": [
    "fig3=all_data.boxplot(\"SQ_FT\", by=\"Zip Code\", figsize=(20, 10), patch_artist=True)\n",
    "plt.savefig('Images/BoxPlot3.png')\n"
   ]
  },
  {
   "cell_type": "code",
   "execution_count": null,
   "metadata": {},
   "outputs": [],
   "source": [
    "fig4=all_data.boxplot(\"pct_change\", by=\"Zip Code\", figsize=(20, 10), patch_artist=True)\n",
    "plt.savefig('Images/BoxPlot4.png')"
   ]
  },
  {
   "cell_type": "code",
   "execution_count": null,
   "metadata": {},
   "outputs": [],
   "source": [
    "offense_count=all_data.groupby(['Zip Code'])['Offense Count'].mean()\n",
    "fig5=offense_count.plot.bar(title=\"Offense Count by Zip Code\", figsize=(20,10),rot=0)\n",
    "fig5.set_ylabel('Number of Crimes')\n",
    "plt.savefig('Images/Bar5.png')"
   ]
  },
  {
   "cell_type": "code",
   "execution_count": null,
   "metadata": {},
   "outputs": [],
   "source": [
    "fig6=all_data.boxplot(\"Average School Rating\", by=\"Zip Code\", figsize=(20, 10), patch_artist=True)\n",
    "plt.savefig('Images/BoxPlot6.png')"
   ]
  },
  {
   "cell_type": "code",
   "execution_count": null,
   "metadata": {},
   "outputs": [],
   "source": [
    "flood_risk=all_data.groupby(['Zip Code'])['Flood Risk'].mean()\n",
    "fig7=flood_risk.plot.bar(title=\"Flood Risk by Zip Code\", figsize=(20,10),rot=0)\n",
    "fig7.set_ylabel('Flood Risk')\n",
    "plt.savefig('Images/Bar7.png')"
   ]
  },
  {
   "cell_type": "code",
   "execution_count": null,
   "metadata": {},
   "outputs": [],
   "source": []
  }
 ],
 "metadata": {
  "kernelspec": {
   "display_name": "Python [conda env:PythonData] *",
   "language": "python",
   "name": "conda-env-PythonData-py"
  },
  "language_info": {
   "codemirror_mode": {
    "name": "ipython",
    "version": 3
   },
   "file_extension": ".py",
   "mimetype": "text/x-python",
   "name": "python",
   "nbconvert_exporter": "python",
   "pygments_lexer": "ipython3",
   "version": "3.8.2"
  }
 },
 "nbformat": 4,
 "nbformat_minor": 4
}
